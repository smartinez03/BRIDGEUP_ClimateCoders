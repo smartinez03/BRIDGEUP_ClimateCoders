{
 "cells": [
  {
   "cell_type": "markdown",
   "metadata": {},
   "source": [
    "## Machine learning with linear regression\n",
    "\n",
    "These are the general steps we need to take to apply a machine learning algorithm. We'll look at how this applies specifically for linear regression. \n",
    "\n",
    "![ML_steps](https://www.houseofbots.com/images/news/11493/cover.png)"
   ]
  },
  {
   "cell_type": "code",
   "execution_count": null,
   "metadata": {},
   "outputs": [],
   "source": [
    "#Import libraries\n",
    "import os\n",
    "import pandas as pd\n",
    "import numpy as np\n",
    "import matplotlib.pyplot as plt"
   ]
  },
  {
   "cell_type": "markdown",
   "metadata": {},
   "source": [
    "### Get data\n",
    "\n",
    "Let's practice our linear regression algorithm with a practice dataset that I found [here](https://college.cengage.com/mathematics/brase/understandable_statistics/7e/students/datasets/slr/frames/frame.html). We are comparing chirps/sec of the ground striped cricket with the surrounding temperature (deg F)"
   ]
  },
  {
   "cell_type": "code",
   "execution_count": null,
   "metadata": {},
   "outputs": [],
   "source": [
    "#Read in excel file 'cricketchirps_temp.xlsx'\n"
   ]
  },
  {
   "cell_type": "markdown",
   "metadata": {},
   "source": [
    "We are going to save each column as a NumPy array so it's easier to plot and run functions on. Name the variables as shown below."
   ]
  },
  {
   "cell_type": "code",
   "execution_count": null,
   "metadata": {},
   "outputs": [],
   "source": [
    "#Just need to add a .values to the end of your columns\n",
    "#For example: SST_array = df['SST'].values\n",
    "\n",
    "# data_chirp = ?\n",
    "\n",
    "# data_temp = ?\n"
   ]
  },
  {
   "cell_type": "markdown",
   "metadata": {},
   "source": [
    "Check that the data type is a numpy array"
   ]
  },
  {
   "cell_type": "code",
   "execution_count": null,
   "metadata": {},
   "outputs": [],
   "source": []
  },
  {
   "cell_type": "markdown",
   "metadata": {},
   "source": [
    "Make a scatter plot of your data and make sure you can see a linear relationship between chirps/sec and temperature. There's no point putting in all this effort when your data can't be described with a linear model."
   ]
  },
  {
   "cell_type": "code",
   "execution_count": null,
   "metadata": {},
   "outputs": [],
   "source": []
  },
  {
   "cell_type": "markdown",
   "metadata": {},
   "source": [
    "### Clean data"
   ]
  },
  {
   "cell_type": "markdown",
   "metadata": {},
   "source": [
    "#### Conversions\n",
    "\n",
    "There isn't much to do with this dataset but let's convert the temperature to degree Celsius for practice.\n",
    "\n",
    "Note: (&deg;F − 32) × 5/9 = &deg;C"
   ]
  },
  {
   "cell_type": "code",
   "execution_count": null,
   "metadata": {},
   "outputs": [],
   "source": []
  },
  {
   "cell_type": "markdown",
   "metadata": {},
   "source": [
    "#### Reshape data"
   ]
  },
  {
   "cell_type": "markdown",
   "metadata": {},
   "source": [
    "The function for linear regression only accepts data that is two dimensional. We can use the numpy.reshape() function to edit our data. \n",
    "\n",
    "* numpy.reshape(**array**,**new shape**)\n",
    "\n",
    "It can also be used as a method.\n",
    "\n",
    "* **numpy_array**.reshape(**new shape**)\n",
    "\n",
    "Remember: the shape of an array is saved as a tuple. So for a 2D array, shape = **(**no of rows, no of columns**)**"
   ]
  },
  {
   "cell_type": "code",
   "execution_count": null,
   "metadata": {},
   "outputs": [],
   "source": [
    "#This is 1D\n",
    "print(data_chirp.shape)\n",
    "\n",
    "#Reshaping chirp data\n",
    "no_rows = len(data_chirp)\n",
    "data_chirp_reshaped = data_chirp.reshape((no_samples, 1))\n",
    "print(data_chirp_reshaped.shape)\n",
    "\n",
    "#Try this for temperature data\n"
   ]
  },
  {
   "cell_type": "markdown",
   "metadata": {},
   "source": [
    "#### Split data\n",
    "\n",
    "Now we need to separate out our data into:\n",
    "* training data: data you'll use to create with your linear regression model\n",
    "* testing data: data you'll use to test your model\n",
    "\n",
    "You can do this manually by splitting your data into half. Try it!"
   ]
  },
  {
   "cell_type": "code",
   "execution_count": null,
   "metadata": {},
   "outputs": [],
   "source": []
  },
  {
   "cell_type": "markdown",
   "metadata": {},
   "source": [
    "OR\n",
    "\n",
    "We can randomize the sampling using the train_test_split function from the sklearn.model_selection library.\n",
    "\n",
    "Function description:\n",
    "\n",
    "**data_train**, **data_test** = train_test_split(**data**,**test_size**,**train_size**,**random_state = 0**)\n",
    "\n",
    "Inputs:\n",
    "* **data**: data arrays or columns to split\n",
    "* **test_size**: proportion of data or absolute number of values to sample for test data\n",
    "* **train_size**: proportion of data or absolute number of values to sample for train data\n",
    "\n",
    "Outputs:\n",
    "* **data_train**: training data as array\n",
    "* **data_test**: testing data as array\n",
    "\n",
    "Let's again split the data by half but this time we're telling Python to choose our test and train data at random.\n",
    "Since we want 50% of sample to be for training, our train_size = 0.5 and accordingly our test_size = 0.5\n",
    "\n",
    "I have an additional input random_state = 0 which allows you to get the same results each time you run the randomizer. This is good for testing but we don't really need to do this when we analyze our coral data."
   ]
  },
  {
   "cell_type": "code",
   "execution_count": null,
   "metadata": {},
   "outputs": [],
   "source": [
    "from sklearn.model_selection import train_test_split \n",
    "\n",
    "train_chirp, test_chirp, train_temp, test_temp = train_test_split(data_chirp_reshaped,data_temp_reshaped, train_size = 0.5, random_state = 0)"
   ]
  },
  {
   "cell_type": "markdown",
   "metadata": {},
   "source": [
    "I've plotted both datasets so you can see how the data was split. The training data is in black and the test data is in blue."
   ]
  },
  {
   "cell_type": "code",
   "execution_count": 1,
   "metadata": {},
   "outputs": [
    {
     "ename": "NameError",
     "evalue": "name 'plt' is not defined",
     "output_type": "error",
     "traceback": [
      "\u001b[0;31m---------------------------------------------------------------------------\u001b[0m",
      "\u001b[0;31mNameError\u001b[0m                                 Traceback (most recent call last)",
      "\u001b[0;32m<ipython-input-1-cf8d65b068f9>\u001b[0m in \u001b[0;36m<module>\u001b[0;34m\u001b[0m\n\u001b[0;32m----> 1\u001b[0;31m \u001b[0mplt\u001b[0m\u001b[0;34m.\u001b[0m\u001b[0mfigure\u001b[0m\u001b[0;34m(\u001b[0m\u001b[0;34m)\u001b[0m\u001b[0;34m\u001b[0m\u001b[0;34m\u001b[0m\u001b[0m\n\u001b[0m\u001b[1;32m      2\u001b[0m \u001b[0mplt\u001b[0m\u001b[0;34m.\u001b[0m\u001b[0mscatter\u001b[0m\u001b[0;34m(\u001b[0m\u001b[0mtrain_chirp\u001b[0m\u001b[0;34m,\u001b[0m\u001b[0mtrain_temp\u001b[0m\u001b[0;34m,\u001b[0m\u001b[0mcolor\u001b[0m \u001b[0;34m=\u001b[0m \u001b[0;34m'k'\u001b[0m\u001b[0;34m)\u001b[0m\u001b[0;34m\u001b[0m\u001b[0;34m\u001b[0m\u001b[0m\n\u001b[1;32m      3\u001b[0m \u001b[0mplt\u001b[0m\u001b[0;34m.\u001b[0m\u001b[0mscatter\u001b[0m\u001b[0;34m(\u001b[0m\u001b[0mtest_chirp\u001b[0m\u001b[0;34m,\u001b[0m\u001b[0mtest_temp\u001b[0m\u001b[0;34m,\u001b[0m\u001b[0mcolor\u001b[0m \u001b[0;34m=\u001b[0m \u001b[0;34m'b'\u001b[0m\u001b[0;34m)\u001b[0m\u001b[0;34m\u001b[0m\u001b[0;34m\u001b[0m\u001b[0m\n\u001b[1;32m      4\u001b[0m \u001b[0mplt\u001b[0m\u001b[0;34m.\u001b[0m\u001b[0mxlabel\u001b[0m\u001b[0;34m(\u001b[0m\u001b[0;34m'chirps/sec'\u001b[0m\u001b[0;34m)\u001b[0m\u001b[0;34m\u001b[0m\u001b[0;34m\u001b[0m\u001b[0m\n\u001b[1;32m      5\u001b[0m \u001b[0mplt\u001b[0m\u001b[0;34m.\u001b[0m\u001b[0mylabel\u001b[0m\u001b[0;34m(\u001b[0m\u001b[0;34m'temperature'\u001b[0m\u001b[0;34m)\u001b[0m\u001b[0;34m\u001b[0m\u001b[0;34m\u001b[0m\u001b[0m\n",
      "\u001b[0;31mNameError\u001b[0m: name 'plt' is not defined"
     ]
    }
   ],
   "source": [
    "plt.figure()\n",
    "plt.scatter(train_chirp,train_temp,color = 'k')\n",
    "plt.scatter(test_chirp,test_temp,color = 'b')\n",
    "plt.xlabel('chirps/sec')\n",
    "plt.ylabel('temperature')\n",
    "plt.show()"
   ]
  },
  {
   "cell_type": "markdown",
   "metadata": {},
   "source": [
    "### Create your practice data\n",
    "\n",
    "Now try splitting the data with some other proportion of test and training data. Give these different variable names."
   ]
  },
  {
   "cell_type": "code",
   "execution_count": null,
   "metadata": {},
   "outputs": [],
   "source": []
  },
  {
   "cell_type": "markdown",
   "metadata": {},
   "source": [
    "### Train model"
   ]
  },
  {
   "cell_type": "markdown",
   "metadata": {},
   "source": [
    "Now we need to train our model. Again, we import functions from the sklearn library."
   ]
  },
  {
   "cell_type": "code",
   "execution_count": null,
   "metadata": {},
   "outputs": [],
   "source": [
    "from sklearn.linear_model import LinearRegression"
   ]
  },
  {
   "cell_type": "code",
   "execution_count": null,
   "metadata": {},
   "outputs": [],
   "source": [
    "#We need to tell Python that we are running a linear regression model\n",
    "model = LinearRegression()"
   ]
  },
  {
   "cell_type": "markdown",
   "metadata": {},
   "source": [
    "If you were doing this calculation by hand, the next step would be to find the equation for the line that best fits the data. \n",
    "\n",
    "Recall the equation for a line is `` y = mx + C``\n",
    "\n",
    "Linear regression gives you the coefficients m and C"
   ]
  },
  {
   "cell_type": "code",
   "execution_count": null,
   "metadata": {},
   "outputs": [],
   "source": [
    "#Find the model that best *fits* our training data\n",
    "model.fit(train_chirp, train_temp)\n",
    "\n",
    "#Find coefficients\n",
    "m = model.coef_\n",
    "C = model.intercept_\n",
    "\n",
    "print(m, C)"
   ]
  },
  {
   "cell_type": "markdown",
   "metadata": {},
   "source": [
    "What do m and C mean for our experiment?"
   ]
  },
  {
   "cell_type": "code",
   "execution_count": null,
   "metadata": {},
   "outputs": [],
   "source": []
  },
  {
   "cell_type": "markdown",
   "metadata": {},
   "source": [
    "Now that you have a relationship between chirps and temperature, you can predict the temperature for any value of chirps/sec. \n",
    "\n",
    "Find the temperature corresponding to 18 chirps/sec."
   ]
  },
  {
   "cell_type": "code",
   "execution_count": null,
   "metadata": {},
   "outputs": [],
   "source": []
  },
  {
   "cell_type": "code",
   "execution_count": null,
   "metadata": {},
   "outputs": [],
   "source": [
    "#Calculate the predicted temperature values for the training chirp data. Name the variable as shown below.\n",
    "\n",
    "#pred_train_temp = ?\n"
   ]
  },
  {
   "cell_type": "code",
   "execution_count": null,
   "metadata": {},
   "outputs": [],
   "source": [
    "#Plot your measured training and your predicted training temperatures against the chirp/sec data\n"
   ]
  },
  {
   "cell_type": "markdown",
   "metadata": {},
   "source": [
    "### Test model"
   ]
  },
  {
   "cell_type": "markdown",
   "metadata": {},
   "source": [
    "Now we need to see how this model does with our test data. Let's find the predicted temperature values for the test chirp data using our linear regression model"
   ]
  },
  {
   "cell_type": "code",
   "execution_count": null,
   "metadata": {},
   "outputs": [],
   "source": [
    "#Calculate the predicted temperature values for the test chirp data. Name the variable as shown below.\n",
    "\n",
    "#pred_test_temp = ?\n"
   ]
  },
  {
   "cell_type": "code",
   "execution_count": null,
   "metadata": {},
   "outputs": [],
   "source": [
    "#Plot this out as before\n"
   ]
  },
  {
   "cell_type": "markdown",
   "metadata": {},
   "source": [
    "### Practice!\n",
    "\n",
    "Test and train your own linear regression model using the data you split. "
   ]
  },
  {
   "cell_type": "code",
   "execution_count": null,
   "metadata": {},
   "outputs": [],
   "source": []
  },
  {
   "cell_type": "markdown",
   "metadata": {},
   "source": [
    "### How did our model do?"
   ]
  },
  {
   "cell_type": "markdown",
   "metadata": {},
   "source": [
    "We've talked about using the sum of the squared residuals to determine how good a fit was. \n",
    "\n",
    "**Refresher**\n",
    "\n",
    "Residuals = predicted y - measured y\n",
    "\n",
    "![residuals](https://internal.ncl.ac.uk/ask/numeracy-maths-statistics/images/Residuals.png)\n",
    "\n",
    "Taking the average of that is called the mean squared error."
   ]
  },
  {
   "cell_type": "code",
   "execution_count": null,
   "metadata": {},
   "outputs": [],
   "source": [
    "from sklearn.metrics import mean_squared_error"
   ]
  },
  {
   "cell_type": "code",
   "execution_count": null,
   "metadata": {},
   "outputs": [],
   "source": [
    "#Calculate the mean square error. This is like the score for your model\n",
    "mean_sq_err = mean_squared_error(test_temp,pred_test_temp)\n",
    "mean_sq_err "
   ]
  },
  {
   "cell_type": "markdown",
   "metadata": {},
   "source": [
    "What does this actually indicate? An easier way to interpret this result is to take the square root of the mean squared error. This is the root mean square error. "
   ]
  },
  {
   "cell_type": "code",
   "execution_count": null,
   "metadata": {},
   "outputs": [],
   "source": [
    "root_mean_sq_err = np.sqrt(mean_sq_err)\n",
    "root_mean_sq_err"
   ]
  },
  {
   "cell_type": "markdown",
   "metadata": {},
   "source": [
    "This means the average difference between the measured and predicted temperatures is about 5.47 &deg;F\n",
    "\n",
    "### Practice!\n",
    "\n",
    "Compare this \"score\" to your own calculations."
   ]
  },
  {
   "cell_type": "code",
   "execution_count": null,
   "metadata": {},
   "outputs": [],
   "source": []
  },
  {
   "cell_type": "markdown",
   "metadata": {},
   "source": [
    "### Challenge\n",
    "\n",
    "What test and training size would give you the lowest root mean square error?"
   ]
  },
  {
   "cell_type": "code",
   "execution_count": null,
   "metadata": {},
   "outputs": [],
   "source": []
  }
 ],
 "metadata": {
  "kernelspec": {
   "display_name": "Python 3",
   "language": "python",
   "name": "python3"
  },
  "language_info": {
   "codemirror_mode": {
    "name": "ipython",
    "version": 3
   },
   "file_extension": ".py",
   "mimetype": "text/x-python",
   "name": "python",
   "nbconvert_exporter": "python",
   "pygments_lexer": "ipython3",
   "version": "3.7.6"
  }
 },
 "nbformat": 4,
 "nbformat_minor": 4
}
