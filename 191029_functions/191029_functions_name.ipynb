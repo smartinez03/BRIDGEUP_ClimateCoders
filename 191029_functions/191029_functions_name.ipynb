{
 "cells": [
  {
   "cell_type": "markdown",
   "metadata": {},
   "source": [
    "# Functions\n",
    "\n",
    "I'm going to walk you through how I plan out a function, in this case, a function that converts Fahrenheit to Celsius. \n",
    "\n",
    "But first, is it even useful to use a function in this scenario? Here are some of my reasons for doing so:\n",
    "1. It's **reusable**. So, instead of writing the same chunk of code each time I need to do a temperature conversion I can just call the function.\n",
    "1. It keeps things tidy. When you start writing long scripts (and you will soon!), it's useful to divide your code in this way so it's **easier to read**.  \n",
    "\n",
    "Can you think of others?"
   ]
  },
  {
   "cell_type": "markdown",
   "metadata": {},
   "source": [
    "### Step 1: Pseudocode\n",
    "\n",
    "Let's figure out how to do this together.\n",
    "\n",
    "Here's the problem in a nutshell:\n",
    "\n",
    "**Temperature_fahrenheit** -> do something -> **Temperature_celsius**\n",
    "\n",
    "A quick Google search should give you the formula for the conversion:\n",
    "*T_celsius = (T_fahrenheit - 32) x (5/9)*\n",
    "\n",
    "I've shortened down temperature to T here. \n",
    "\n",
    "So, now you can fill in the \"do something\" part:\n",
    "\n",
    "**T_fahrenheit** -> T_celsius = (T_fahrenheit - 32) x (5/9) -> **T_celsius**"
   ]
  },
  {
   "cell_type": "markdown",
   "metadata": {},
   "source": [
    "Let's write it out in pseudocode:\n",
    "\n",
    "```\n",
    "function (T_fahrenheit)\n",
    "    \n",
    "    Take T_fahrenheit and convert to T_celsius using function T_celsius = (T_fahrenheit - 32) x (5/9)\n",
    "    \n",
    "    return T_celsius\n",
    "```"
   ]
  },
  {
   "cell_type": "markdown",
   "metadata": {},
   "source": [
    "### Step 2: Code!"
   ]
  },
  {
   "cell_type": "code",
   "execution_count": 2,
   "metadata": {},
   "outputs": [],
   "source": [
    "def fahrenheit_to_celsius(T_fahrenheit):\n",
    "    T_celsius =  (T_fahrenheit - 32) * (5/9) \n",
    "    return T_celsius"
   ]
  },
  {
   "cell_type": "markdown",
   "metadata": {},
   "source": [
    "Let's look at the syntax more closely:\n",
    "* **def**: we are telling Python that we want to create a function\n",
    "* **fahrenheit_to_celsius**: your function name (make it something you will remember)\n",
    "* **T_fahrenheit**: your input (you can more than one!)\n",
    "* **T_celsius =  (T_fahrenheit - 32) * (5/9)**: your main function argument\n",
    "* **return**: we are telling Python we want to output this\n",
    "* **T_celsius**: your output\n",
    "\n",
    "![function example](https://swcarpentry.github.io/python-novice-inflammation/fig/python-function.svg)"
   ]
  },
  {
   "cell_type": "markdown",
   "metadata": {},
   "source": [
    "### Step 3: Test your function"
   ]
  },
  {
   "cell_type": "code",
   "execution_count": 3,
   "metadata": {},
   "outputs": [
    {
     "name": "stdout",
     "output_type": "stream",
     "text": [
      "0.0\n"
     ]
    },
    {
     "data": {
      "text/plain": [
       "0.0"
      ]
     },
     "execution_count": 3,
     "metadata": {},
     "output_type": "execute_result"
    }
   ],
   "source": [
    "# Test\n",
    "T_fahrenheit = 32\n",
    "T_celsius =  (T_fahrenheit - 32) * (5/9)\n",
    "print(T_celsius)\n",
    "\n",
    "#Does the function give you the same result?\n",
    "fahrenheit_to_celsius(32)"
   ]
  },
  {
   "cell_type": "markdown",
   "metadata": {},
   "source": [
    "## Coding challenge\n",
    "\n",
    "Let's do one more practice round to make sure we understand functions. This is based on this challenge from Py.CheckiO(https://py.checkio.org/en/mission/fizz-buzz/). The website has a bunch of other coding challenges if you feel like you need more practice with functions or other aspects of Python coding.  \n",
    "\n",
    "\"Fizz buzz\" is a word game we will use to teach the robots about division.\n",
    "\n",
    "You should write a function that will receive a positive integer and return:\n",
    "* \"Fizz Buzz\" if the number is divisible by 3 and by 5;\n",
    "* \"Fizz\" if the number is divisible by 3;\n",
    "* \"Buzz\" if the number is divisible by 5; \n",
    "* The number as a string for other cases.\n",
    "\n",
    "Input: A number as an integer.\n",
    "\n",
    "Output: The answer as a string.\n",
    "\n",
    "Example:\n",
    "```\n",
    "fizzbuzz(15) == \"Fizz Buzz\"\n",
    "fizzbuzz(6) == \"Fizz\"\n",
    "fizzbuzz(5) == \"Buzz\"\n",
    "fizzbuzz(7) == \"7\"\n",
    "```"
   ]
  },
  {
   "cell_type": "markdown",
   "metadata": {},
   "source": [
    "####  Pseudocode\n",
    "\n",
    "```\n",
    "insert your pseudocode here\n",
    "```"
   ]
  },
  {
   "cell_type": "code",
   "execution_count": 4,
   "metadata": {},
   "outputs": [],
   "source": [
    "def fizzbuzz(number):\n",
    "    \n",
    "    # your code goes here\n",
    "    \n",
    "    return solution"
   ]
  },
  {
   "cell_type": "markdown",
   "metadata": {},
   "source": [
    "### Time formats example\n",
    "\n",
    "Let's use the same steps to write a function using the datetime module. \n",
    "\n",
    "Some of the datasets we'll be working with this year, save time as number of days elapsed from some starting point. Let's create a function to convert from this format to the datetime format. In this case, the starting time is January 01, 1980. One value from the dataset is included so you can test out your function. \n",
    "\n",
    "Remember,\n",
    "1. **map** out your function\n",
    "1. put in **lots of comments** to explain what you're doing. Somebody who's just reading the code should be able to understand how to use it.\n",
    "1. **test it** out with a value you already know. For example, what's the date 5 days after the starting point?"
   ]
  },
  {
   "cell_type": "markdown",
   "metadata": {},
   "source": [
    "#### Step 1: Pseudocode\n",
    "\n",
    "Function finds date corresponding to number of days elapsed since Jan 1, 1980.\n",
    "\n",
    "```\n",
    "function (number of days sice Jan 1, 1980)\n",
    "    date = Jan 1, 1980 + number of days\n",
    "    return date\n",
    "```"
   ]
  },
  {
   "cell_type": "markdown",
   "metadata": {},
   "source": [
    "#### Step 2: Code!"
   ]
  },
  {
   "cell_type": "code",
   "execution_count": 30,
   "metadata": {},
   "outputs": [
    {
     "data": {
      "text/plain": [
<<<<<<< HEAD
       "datetime.datetime(1980, 1, 14, 0, 0)"
      ]
     },
     "execution_count": 5,
=======
       "'01/06/80'"
      ]
     },
     "execution_count": 30,
>>>>>>> 49e0a0a12671710fe5579174365474317f3af77c
     "metadata": {},
     "output_type": "execute_result"
    }
   ],
   "source": [
    "import datetime as dt\n",
    "\n",
    "startTime = dt.datetime(1980,1,1)\n",
<<<<<<< HEAD
    "\n",
    "def fun(x):\n",
    "    z= dt.timedelta(days=x)\n",
    "    date= startTime + z\n",
    "    \n",
    "    return date\n",
    "\n",
    "fun(13)"
=======
    "startTime\n",
    "\n",
    "def conv(days):\n",
    "    startime = dt.datetime(1980,1,1)\n",
    "    date = startime + dt.timedelta(days = days)\n",
    "    return date.strftime(\"%m/%d/%y\")\n",
    "\n",
    "conv(5)"
>>>>>>> 49e0a0a12671710fe5579174365474317f3af77c
   ]
  },
  {
   "cell_type": "markdown",
   "metadata": {},
   "source": [
    "#### Step 3: Test your code"
   ]
  },
  {
   "cell_type": "code",
<<<<<<< HEAD
   "execution_count": 8,
=======
   "execution_count": 34,
>>>>>>> 49e0a0a12671710fe5579174365474317f3af77c
   "metadata": {},
   "outputs": [
    {
     "data": {
      "text/plain": [
<<<<<<< HEAD
       "datetime.datetime(1980, 1, 6, 0, 0)"
      ]
     },
     "execution_count": 8,
=======
       "'01/06/80'"
      ]
     },
     "execution_count": 34,
>>>>>>> 49e0a0a12671710fe5579174365474317f3af77c
     "metadata": {},
     "output_type": "execute_result"
    }
   ],
   "source": [
    "#Test = 5 days after Jan 1, 1980\n",
    "test = 5\n",
<<<<<<< HEAD
    "test\n",
    "\n",
    "fun(5)"
=======
    "conv(test)"
>>>>>>> 49e0a0a12671710fe5579174365474317f3af77c
   ]
  },
  {
   "cell_type": "markdown",
   "metadata": {},
   "source": [
    "Now, we'll apply this function to a dataset. So, we'll need to:\n",
    "1. import the 191015_SODAtime.csv file as a Pandas dataframe. The file should be in the same folder as this Jupyter notebook.\n",
    "1. apply this function to every entry in the file\n",
    "\n",
    "Useful functions:\n",
    "* pandas.dataframe.read_csv(**file_path**): reads a .csv file as a Pandas dataframe\n",
    "* pandas.dataframe.apply(**function**, **axis** = 0 or ‘index’, 1 or ‘columns’): applies function to every entry in file along the specified axis"
   ]
  },
  {
   "cell_type": "markdown",
   "metadata": {},
   "source": [
    "#### Step 1: Pseudocode\n",
    "\n",
    "```\n",
    "insert your pseudocode here\n",
    "```"
   ]
  },
  {
   "cell_type": "markdown",
   "metadata": {},
   "source": [
    "#### Step 2: Code!"
   ]
  },
  {
   "cell_type": "code",
<<<<<<< HEAD
   "execution_count": 17,
=======
   "execution_count": 41,
>>>>>>> 49e0a0a12671710fe5579174365474317f3af77c
   "metadata": {},
   "outputs": [
    {
     "data": {
      "text/html": [
       "<div>\n",
       "<style scoped>\n",
       "    .dataframe tbody tr th:only-of-type {\n",
       "        vertical-align: middle;\n",
       "    }\n",
       "\n",
       "    .dataframe tbody tr th {\n",
       "        vertical-align: top;\n",
       "    }\n",
       "\n",
       "    .dataframe thead th {\n",
       "        text-align: right;\n",
       "    }\n",
       "</style>\n",
       "<table border=\"1\" class=\"dataframe\">\n",
       "  <thead>\n",
       "    <tr style=\"text-align: right;\">\n",
       "      <th></th>\n",
       "      <th>time</th>\n",
       "    </tr>\n",
       "  </thead>\n",
       "  <tbody>\n",
       "    <tr>\n",
       "      <td>0</td>\n",
       "      <td>01/16/17</td>\n",
       "    </tr>\n",
       "    <tr>\n",
       "      <td>1</td>\n",
       "      <td>02/15/17</td>\n",
       "    </tr>\n",
       "    <tr>\n",
       "      <td>2</td>\n",
       "      <td>03/17/17</td>\n",
       "    </tr>\n",
       "    <tr>\n",
       "      <td>3</td>\n",
       "      <td>04/16/17</td>\n",
       "    </tr>\n",
       "    <tr>\n",
       "      <td>4</td>\n",
       "      <td>05/16/17</td>\n",
       "    </tr>\n",
       "    <tr>\n",
       "      <td>5</td>\n",
       "      <td>06/15/17</td>\n",
       "    </tr>\n",
       "    <tr>\n",
       "      <td>6</td>\n",
       "      <td>07/15/17</td>\n",
       "    </tr>\n",
       "    <tr>\n",
       "      <td>7</td>\n",
       "      <td>08/16/17</td>\n",
       "    </tr>\n",
       "    <tr>\n",
       "      <td>8</td>\n",
       "      <td>09/18/17</td>\n",
       "    </tr>\n",
       "    <tr>\n",
       "      <td>9</td>\n",
       "      <td>10/18/17</td>\n",
       "    </tr>\n",
       "    <tr>\n",
       "      <td>10</td>\n",
       "      <td>11/17/17</td>\n",
       "    </tr>\n",
       "    <tr>\n",
       "      <td>11</td>\n",
       "      <td>12/12/17</td>\n",
       "    </tr>\n",
       "  </tbody>\n",
       "</table>\n",
       "</div>"
      ],
      "text/plain": [
       "        time\n",
       "0   01/16/17\n",
       "1   02/15/17\n",
       "2   03/17/17\n",
       "3   04/16/17\n",
       "4   05/16/17\n",
       "5   06/15/17\n",
       "6   07/15/17\n",
       "7   08/16/17\n",
       "8   09/18/17\n",
       "9   10/18/17\n",
       "10  11/17/17\n",
       "11  12/12/17"
      ]
     },
     "execution_count": 41,
     "metadata": {},
     "output_type": "execute_result"
    }
   ],
   "source": [
    "import pandas as pd\n",
<<<<<<< HEAD
    "\n",
    "df= pd.read_csv(\"/Users/brownscholar/Desktop/BRIDGEUP_ClimateCoders/191015_timeformats/191015_SODAtime.csv\")"
=======
    "df = pd.read_csv('/Users/hellenfellow/Dropbox (AMNH)/AMNH-Ankitha/GitHub/BRIDGEUP_ClimateCoders/191015_timeformats/191015_SODAtime.csv')\n",
    "dfnew = df.copy()\n",
    "dfnew['time'] = dfnew['time'].apply(conv)\n",
    "dfnew"
>>>>>>> 49e0a0a12671710fe5579174365474317f3af77c
   ]
  },
  {
   "cell_type": "markdown",
   "metadata": {},
   "source": [
    "#### Step 3: Test your code"
   ]
  },
  {
   "cell_type": "code",
<<<<<<< HEAD
   "execution_count": 18,
   "metadata": {},
   "outputs": [
    {
     "ename": "TypeError",
     "evalue": "('unsupported type for timedelta days component: Series', 'occurred at index time')",
     "output_type": "error",
     "traceback": [
      "\u001b[0;31m---------------------------------------------------------------------------\u001b[0m",
      "\u001b[0;31mTypeError\u001b[0m                                 Traceback (most recent call last)",
      "\u001b[0;32m<ipython-input-18-4ea5cd4fb944>\u001b[0m in \u001b[0;36m<module>\u001b[0;34m\u001b[0m\n\u001b[0;32m----> 1\u001b[0;31m \u001b[0mdf\u001b[0m\u001b[0;34m.\u001b[0m\u001b[0mapply\u001b[0m\u001b[0;34m(\u001b[0m\u001b[0mfun\u001b[0m\u001b[0;34m)\u001b[0m\u001b[0;34m\u001b[0m\u001b[0;34m\u001b[0m\u001b[0m\n\u001b[0m",
      "\u001b[0;32m~/anaconda3/lib/python3.7/site-packages/pandas/core/frame.py\u001b[0m in \u001b[0;36mapply\u001b[0;34m(self, func, axis, broadcast, raw, reduce, result_type, args, **kwds)\u001b[0m\n\u001b[1;32m   6485\u001b[0m                          \u001b[0margs\u001b[0m\u001b[0;34m=\u001b[0m\u001b[0margs\u001b[0m\u001b[0;34m,\u001b[0m\u001b[0;34m\u001b[0m\u001b[0;34m\u001b[0m\u001b[0m\n\u001b[1;32m   6486\u001b[0m                          kwds=kwds)\n\u001b[0;32m-> 6487\u001b[0;31m         \u001b[0;32mreturn\u001b[0m \u001b[0mop\u001b[0m\u001b[0;34m.\u001b[0m\u001b[0mget_result\u001b[0m\u001b[0;34m(\u001b[0m\u001b[0;34m)\u001b[0m\u001b[0;34m\u001b[0m\u001b[0;34m\u001b[0m\u001b[0m\n\u001b[0m\u001b[1;32m   6488\u001b[0m \u001b[0;34m\u001b[0m\u001b[0m\n\u001b[1;32m   6489\u001b[0m     \u001b[0;32mdef\u001b[0m \u001b[0mapplymap\u001b[0m\u001b[0;34m(\u001b[0m\u001b[0mself\u001b[0m\u001b[0;34m,\u001b[0m \u001b[0mfunc\u001b[0m\u001b[0;34m)\u001b[0m\u001b[0;34m:\u001b[0m\u001b[0;34m\u001b[0m\u001b[0;34m\u001b[0m\u001b[0m\n",
      "\u001b[0;32m~/anaconda3/lib/python3.7/site-packages/pandas/core/apply.py\u001b[0m in \u001b[0;36mget_result\u001b[0;34m(self)\u001b[0m\n\u001b[1;32m    149\u001b[0m             \u001b[0;32mreturn\u001b[0m \u001b[0mself\u001b[0m\u001b[0;34m.\u001b[0m\u001b[0mapply_raw\u001b[0m\u001b[0;34m(\u001b[0m\u001b[0;34m)\u001b[0m\u001b[0;34m\u001b[0m\u001b[0;34m\u001b[0m\u001b[0m\n\u001b[1;32m    150\u001b[0m \u001b[0;34m\u001b[0m\u001b[0m\n\u001b[0;32m--> 151\u001b[0;31m         \u001b[0;32mreturn\u001b[0m \u001b[0mself\u001b[0m\u001b[0;34m.\u001b[0m\u001b[0mapply_standard\u001b[0m\u001b[0;34m(\u001b[0m\u001b[0;34m)\u001b[0m\u001b[0;34m\u001b[0m\u001b[0;34m\u001b[0m\u001b[0m\n\u001b[0m\u001b[1;32m    152\u001b[0m \u001b[0;34m\u001b[0m\u001b[0m\n\u001b[1;32m    153\u001b[0m     \u001b[0;32mdef\u001b[0m \u001b[0mapply_empty_result\u001b[0m\u001b[0;34m(\u001b[0m\u001b[0mself\u001b[0m\u001b[0;34m)\u001b[0m\u001b[0;34m:\u001b[0m\u001b[0;34m\u001b[0m\u001b[0;34m\u001b[0m\u001b[0m\n",
      "\u001b[0;32m~/anaconda3/lib/python3.7/site-packages/pandas/core/apply.py\u001b[0m in \u001b[0;36mapply_standard\u001b[0;34m(self)\u001b[0m\n\u001b[1;32m    255\u001b[0m \u001b[0;34m\u001b[0m\u001b[0m\n\u001b[1;32m    256\u001b[0m         \u001b[0;31m# compute the result using the series generator\u001b[0m\u001b[0;34m\u001b[0m\u001b[0;34m\u001b[0m\u001b[0;34m\u001b[0m\u001b[0m\n\u001b[0;32m--> 257\u001b[0;31m         \u001b[0mself\u001b[0m\u001b[0;34m.\u001b[0m\u001b[0mapply_series_generator\u001b[0m\u001b[0;34m(\u001b[0m\u001b[0;34m)\u001b[0m\u001b[0;34m\u001b[0m\u001b[0;34m\u001b[0m\u001b[0m\n\u001b[0m\u001b[1;32m    258\u001b[0m \u001b[0;34m\u001b[0m\u001b[0m\n\u001b[1;32m    259\u001b[0m         \u001b[0;31m# wrap results\u001b[0m\u001b[0;34m\u001b[0m\u001b[0;34m\u001b[0m\u001b[0;34m\u001b[0m\u001b[0m\n",
      "\u001b[0;32m~/anaconda3/lib/python3.7/site-packages/pandas/core/apply.py\u001b[0m in \u001b[0;36mapply_series_generator\u001b[0;34m(self)\u001b[0m\n\u001b[1;32m    284\u001b[0m             \u001b[0;32mtry\u001b[0m\u001b[0;34m:\u001b[0m\u001b[0;34m\u001b[0m\u001b[0;34m\u001b[0m\u001b[0m\n\u001b[1;32m    285\u001b[0m                 \u001b[0;32mfor\u001b[0m \u001b[0mi\u001b[0m\u001b[0;34m,\u001b[0m \u001b[0mv\u001b[0m \u001b[0;32min\u001b[0m \u001b[0menumerate\u001b[0m\u001b[0;34m(\u001b[0m\u001b[0mseries_gen\u001b[0m\u001b[0;34m)\u001b[0m\u001b[0;34m:\u001b[0m\u001b[0;34m\u001b[0m\u001b[0;34m\u001b[0m\u001b[0m\n\u001b[0;32m--> 286\u001b[0;31m                     \u001b[0mresults\u001b[0m\u001b[0;34m[\u001b[0m\u001b[0mi\u001b[0m\u001b[0;34m]\u001b[0m \u001b[0;34m=\u001b[0m \u001b[0mself\u001b[0m\u001b[0;34m.\u001b[0m\u001b[0mf\u001b[0m\u001b[0;34m(\u001b[0m\u001b[0mv\u001b[0m\u001b[0;34m)\u001b[0m\u001b[0;34m\u001b[0m\u001b[0;34m\u001b[0m\u001b[0m\n\u001b[0m\u001b[1;32m    287\u001b[0m                     \u001b[0mkeys\u001b[0m\u001b[0;34m.\u001b[0m\u001b[0mappend\u001b[0m\u001b[0;34m(\u001b[0m\u001b[0mv\u001b[0m\u001b[0;34m.\u001b[0m\u001b[0mname\u001b[0m\u001b[0;34m)\u001b[0m\u001b[0;34m\u001b[0m\u001b[0;34m\u001b[0m\u001b[0m\n\u001b[1;32m    288\u001b[0m             \u001b[0;32mexcept\u001b[0m \u001b[0mException\u001b[0m \u001b[0;32mas\u001b[0m \u001b[0me\u001b[0m\u001b[0;34m:\u001b[0m\u001b[0;34m\u001b[0m\u001b[0;34m\u001b[0m\u001b[0m\n",
      "\u001b[0;32m<ipython-input-5-aa110b4c9344>\u001b[0m in \u001b[0;36mfun\u001b[0;34m(x)\u001b[0m\n\u001b[1;32m      4\u001b[0m \u001b[0;34m\u001b[0m\u001b[0m\n\u001b[1;32m      5\u001b[0m \u001b[0;32mdef\u001b[0m \u001b[0mfun\u001b[0m\u001b[0;34m(\u001b[0m\u001b[0mx\u001b[0m\u001b[0;34m)\u001b[0m\u001b[0;34m:\u001b[0m\u001b[0;34m\u001b[0m\u001b[0;34m\u001b[0m\u001b[0m\n\u001b[0;32m----> 6\u001b[0;31m     \u001b[0mz\u001b[0m\u001b[0;34m=\u001b[0m \u001b[0mdt\u001b[0m\u001b[0;34m.\u001b[0m\u001b[0mtimedelta\u001b[0m\u001b[0;34m(\u001b[0m\u001b[0mdays\u001b[0m\u001b[0;34m=\u001b[0m\u001b[0mx\u001b[0m\u001b[0;34m)\u001b[0m\u001b[0;34m\u001b[0m\u001b[0;34m\u001b[0m\u001b[0m\n\u001b[0m\u001b[1;32m      7\u001b[0m     \u001b[0mdate\u001b[0m\u001b[0;34m=\u001b[0m \u001b[0mstartTime\u001b[0m \u001b[0;34m+\u001b[0m \u001b[0mz\u001b[0m\u001b[0;34m\u001b[0m\u001b[0;34m\u001b[0m\u001b[0m\n\u001b[1;32m      8\u001b[0m \u001b[0;34m\u001b[0m\u001b[0m\n",
      "\u001b[0;31mTypeError\u001b[0m: ('unsupported type for timedelta days component: Series', 'occurred at index time')"
     ]
    }
   ],
   "source": [
    "df.apply(fun)"
=======
   "execution_count": 38,
   "metadata": {},
   "outputs": [
    {
     "data": {
      "text/plain": [
       "'01/16/17'"
      ]
     },
     "execution_count": 38,
     "metadata": {},
     "output_type": "execute_result"
    }
   ],
   "source": [
    "conv(df['time'][0])"
>>>>>>> 49e0a0a12671710fe5579174365474317f3af77c
   ]
  },
  {
   "cell_type": "markdown",
   "metadata": {},
   "source": [
    "# And remember...\n",
    "![coding](https://www.explainxkcd.com/wiki/images/6/6a/good_code.png)"
   ]
  },
  {
   "cell_type": "code",
   "execution_count": null,
   "metadata": {},
   "outputs": [],
   "source": []
  }
 ],
 "metadata": {
  "kernelspec": {
   "display_name": "Python 3",
   "language": "python",
   "name": "python3"
  },
  "language_info": {
   "codemirror_mode": {
    "name": "ipython",
    "version": 3
   },
   "file_extension": ".py",
   "mimetype": "text/x-python",
   "name": "python",
   "nbconvert_exporter": "python",
   "pygments_lexer": "ipython3",
   "version": "3.7.3"
  }
 },
 "nbformat": 4,
 "nbformat_minor": 2
}
