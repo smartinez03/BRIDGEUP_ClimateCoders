{
 "cells": [
  {
   "cell_type": "markdown",
   "metadata": {},
   "source": [
    "# Functions\n",
    "\n",
    "I'm going to walk you through how I plan out a function, in this case, a function that converts Fahrenheit to Celsius. \n",
    "\n",
    "But first, is it even useful to use a function in this scenario? Here are some of my reasons for doing so:\n",
    "1. It's **reusable**. So, instead of writing the same chunk of code each time I need to do a temperature conversion I can just call the function.\n",
    "1. It keeps things tidy. When you start writing long scripts (and you will soon!), it's useful to divide your code in this way so it's **easier to read**.  \n",
    "\n",
    "Can you think of others?"
   ]
  },
  {
   "cell_type": "markdown",
   "metadata": {},
   "source": [
    "### Step 1: Pseudocode\n",
    "\n",
    "Let's figure out how to do this together.\n",
    "\n",
    "Here's the problem in a nutshell:\n",
    "\n",
    "**Temperature_fahrenheit** -> do something -> **Temperature_celsius**\n",
    "\n",
    "A quick Google search should give you the formula for the conversion:\n",
    "*T_celsius = (T_fahrenheit - 32) x (5/9)*\n",
    "\n",
    "I've shortened down temperature to T here. \n",
    "\n",
    "So, now you can fill in the \"do something\" part:\n",
    "\n",
    "**T_fahrenheit** -> T_celsius = (T_fahrenheit - 32) x (5/9) -> **T_celsius**"
   ]
  },
  {
   "cell_type": "markdown",
   "metadata": {},
   "source": [
    "Let's write it out in pseudocode:\n",
    "\n",
    "```\n",
    "function (T_fahrenheit)\n",
    "    \n",
    "    Take T_fahrenheit and convert to T_celsius using function T_celsius = (T_fahrenheit - 32) x (5/9)\n",
    "    \n",
    "    return T_celsius\n",
    "```"
   ]
  },
  {
   "cell_type": "markdown",
   "metadata": {},
   "source": [
    "### Step 2: Code!"
   ]
  },
  {
   "cell_type": "code",
   "execution_count": 2,
   "metadata": {},
   "outputs": [],
   "source": [
    "def fahrenheit_to_celsius(T_fahrenheit):\n",
    "    T_celsius =  (T_fahrenheit - 32) * (5/9) \n",
    "    return T_celsius"
   ]
  },
  {
   "cell_type": "markdown",
   "metadata": {},
   "source": [
    "Let's look at the syntax more closely:\n",
    "* **def**: we are telling Python that we want to create a function\n",
    "* **fahrenheit_to_celsius**: your function name (make it something you will remember)\n",
    "* **T_fahrenheit**: your input (you can more than one!)\n",
    "* **T_celsius =  (T_fahrenheit - 32) * (5/9)**: your main function argument\n",
    "* **return**: we are telling Python we want to output this\n",
    "* **T_celsius**: your output\n",
    "\n",
    "![function example](https://swcarpentry.github.io/python-novice-inflammation/fig/python-function.svg)"
   ]
  },
  {
   "cell_type": "markdown",
   "metadata": {},
   "source": [
    "### Step 3: Test your function"
   ]
  },
  {
   "cell_type": "code",
   "execution_count": 3,
   "metadata": {},
   "outputs": [
    {
     "name": "stdout",
     "output_type": "stream",
     "text": [
      "0.0\n"
     ]
    },
    {
     "data": {
      "text/plain": [
       "0.0"
      ]
     },
     "execution_count": 3,
     "metadata": {},
     "output_type": "execute_result"
    }
   ],
   "source": [
    "# Test\n",
    "T_fahrenheit = 32\n",
    "T_celsius =  (T_fahrenheit - 32) * (5/9)\n",
    "print(T_celsius)\n",
    "\n",
    "#Does the function give you the same result?\n",
    "fahrenheit_to_celsius(32)"
   ]
  },
  {
   "cell_type": "markdown",
   "metadata": {},
   "source": [
    "## Coding challenge\n",
    "\n",
    "Let's do one more practice round to make sure we understand functions. This is based on this challenge from Py.CheckiO(https://py.checkio.org/en/mission/fizz-buzz/). The website has a bunch of other coding challenges if you feel like you need more practice with functions or other aspects of Python coding.  \n",
    "\n",
    "\"Fizz buzz\" is a word game we will use to teach the robots about division.\n",
    "\n",
    "You should write a function that will receive a positive integer and return:\n",
    "* \"Fizz Buzz\" if the number is divisible by 3 and by 5;\n",
    "* \"Fizz\" if the number is divisible by 3;\n",
    "* \"Buzz\" if the number is divisible by 5; \n",
    "* The number as a string for other cases.\n",
    "\n",
    "Input: A number as an integer.\n",
    "\n",
    "Output: The answer as a string.\n",
    "\n",
    "Example:\n",
    "```\n",
    "fizzbuzz(15) == \"Fizz Buzz\"\n",
    "fizzbuzz(6) == \"Fizz\"\n",
    "fizzbuzz(5) == \"Buzz\"\n",
    "fizzbuzz(7) == \"7\"\n",
    "```"
   ]
  },
  {
   "cell_type": "markdown",
   "metadata": {},
   "source": [
    "####  Pseudocode\n",
    "\n",
    "```\n",
    "insert your pseudocode here\n",
    "```"
   ]
  },
  {
   "cell_type": "code",
   "execution_count": 4,
   "metadata": {},
   "outputs": [],
   "source": [
    "def fizzbuzz(number):\n",
    "    \n",
    "    # your code goes here\n",
    "    \n",
    "    return solution"
   ]
  },
  {
   "cell_type": "markdown",
   "metadata": {},
   "source": [
    "### Time formats example\n",
    "\n",
    "Let's use the same steps to write a function using the datetime module. \n",
    "\n",
    "Some of the datasets we'll be working with this year, save time as number of days elapsed from some starting point. Let's create a function to convert from this format to the datetime format. In this case, the starting time is January 01, 1980. One value from the dataset is included so you can test out your function. \n",
    "\n",
    "Remember,\n",
    "1. **map** out your function\n",
    "1. put in **lots of comments** to explain what you're doing. Somebody who's just reading the code should be able to understand how to use it.\n",
    "1. **test it** out with a value you already know. For example, what's the date 5 days after the starting point?"
   ]
  },
  {
   "cell_type": "markdown",
   "metadata": {},
   "source": [
    "#### Step 1: Pseudocode\n",
    "\n",
    "Function finds date corresponding to number of days elapsed since Jan 1, 1980.\n",
    "\n",
    "```\n",
    "function (number of days sice Jan 1, 1980)\n",
    "    date = Jan 1, 1980 + number of days\n",
    "    return date\n",
    "```"
   ]
  },
  {
   "cell_type": "markdown",
   "metadata": {},
   "source": [
    "#### Step 2: Code!"
   ]
  },
  {
   "cell_type": "code",
   "execution_count": 5,
   "metadata": {},
   "outputs": [],
   "source": [
    "import datetime as dt\n",
    "\n",
    "startTime = dt.datetime(1980,1,1)\n",
    "startTime"
   ]
  },
  {
   "cell_type": "markdown",
   "metadata": {},
   "source": [
    "#### Step 3: Test your code"
   ]
  },
  {
   "cell_type": "code",
   "execution_count": 9,
   "metadata": {},
   "outputs": [
    {
     "data": {
      "text/plain": [
       "datetime.datetime(1980, 1, 1, 0, 0)"
      ]
     },
     "execution_count": 9,
     "metadata": {},
     "output_type": "execute_result"
    }
   ],
   "source": [
    "#Test = 5 days after Jan 1, 1980\n",
    "test = dt.timedelta(days = 5)\n",
    "test"
   ]
  },
  {
   "cell_type": "markdown",
   "metadata": {},
   "source": [
    "Now, we'll apply this function to a dataset. So, we'll need to:\n",
    "1. import the 191015_SODAtime.csv file as a Pandas dataframe. The file should be in the same folder as this Jupyter notebook.\n",
    "1. apply this function to every entry in the file\n",
    "\n",
    "Useful functions:\n",
    "* pandas.dataframe.read_csv(**file_path**): reads a .csv file as a Pandas dataframe\n",
    "* pandas.dataframe.apply(**function**, **axis** = 0 or ‘index’, 1 or ‘columns’): applies function to every entry in file along the specified axis"
   ]
  },
  {
   "cell_type": "markdown",
   "metadata": {},
   "source": [
    "#### Step 1: Pseudocode\n",
    "\n",
    "```\n",
    "insert your pseudocode here\n",
    "```"
   ]
  },
  {
   "cell_type": "markdown",
   "metadata": {},
   "source": [
    "#### Step 2: Code!"
   ]
  },
  {
   "cell_type": "code",
   "execution_count": 12,
   "metadata": {},
   "outputs": [],
   "source": [
    "import pandas as pd"
   ]
  },
  {
   "cell_type": "markdown",
   "metadata": {},
   "source": [
    "#### Step 3: Test your code"
   ]
  },
  {
   "cell_type": "code",
   "execution_count": null,
   "metadata": {},
   "outputs": [],
   "source": []
  },
  {
   "cell_type": "markdown",
   "metadata": {},
   "source": [
    "# And remember...\n",
    "![coding](https://www.explainxkcd.com/wiki/images/6/6a/good_code.png)"
   ]
  },
  {
   "cell_type": "code",
   "execution_count": null,
   "metadata": {},
   "outputs": [],
   "source": []
  }
 ],
 "metadata": {
  "kernelspec": {
   "display_name": "Python 3",
   "language": "python",
   "name": "python3"
  },
  "language_info": {
   "codemirror_mode": {
    "name": "ipython",
    "version": 3
   },
   "file_extension": ".py",
   "mimetype": "text/x-python",
   "name": "python",
   "nbconvert_exporter": "python",
   "pygments_lexer": "ipython3",
   "version": "3.7.4"
  }
 },
 "nbformat": 4,
 "nbformat_minor": 2
}
