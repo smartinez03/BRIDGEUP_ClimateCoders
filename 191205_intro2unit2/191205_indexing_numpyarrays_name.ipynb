{
 "cells": [
  {
   "cell_type": "markdown",
   "metadata": {},
   "source": [
    "## Indexing using Numpy Arrays"
   ]
  },
  {
   "cell_type": "code",
   "execution_count": 3,
   "metadata": {},
   "outputs": [],
   "source": [
    "import matplotlib.pyplot as plt\n",
    "import numpy as np"
   ]
  },
  {
   "cell_type": "code",
   "execution_count": 4,
   "metadata": {},
   "outputs": [
    {
     "name": "stdout",
     "output_type": "stream",
     "text": [
      "First 10 elements in array: [10 12 14 16 18 20 22 24 26 28] \n",
      "\n",
      "Elements in A greater than 50: [52 54 56 58 60 62 64 66 68 70 72 74 76 78 80 82 84 86 88 90 92 94 96 98] \n",
      "\n",
      "Elements in A that correspond to years less than 1910:\n",
      " [10 12 14 16 18 20 22 24 26 28]\n"
     ]
    }
   ],
   "source": [
    "#Helpful example\n",
    "\n",
    "A = np.arange(10,100,2)\n",
    "A_year = np.arange(1900,1945,1)\n",
    "\n",
    "#Indexing you're familiar with\n",
    "print('First 10 elements in array:',A[:10],'\\n')\n",
    "\n",
    "#Indexing to the next level\n",
    "print('Elements in A greater than 50:',A[A>50],'\\n')\n",
    "\n",
    "#Using a different array as your index\n",
    "print('Elements in A that correspond to years less than 1910:\\n',A[A_year<1910])"
   ]
  },
  {
   "cell_type": "markdown",
   "metadata": {},
   "source": [
    "### Challenge"
   ]
  },
  {
   "cell_type": "code",
   "execution_count": 5,
   "metadata": {},
   "outputs": [
    {
     "name": "stdout",
     "output_type": "stream",
     "text": [
      "Name: ['Ling' 'Sabrina' 'Natalie' 'Mia' 'Darcie' 'Ankitha']\n",
      "Dream destination: ['Japan' 'Iceland' 'Spain' 'Canada' 'Japan' 'South Africa']\n",
      "Flight time: [13  6  7  5 13 15]\n",
      "No. of airports: [ 98  38  59 518  98 234]\n"
     ]
    }
   ],
   "source": [
    "name = np.array(['Ling','Sabrina','Natalie','Mia','Darcie','Ankitha'])\n",
    "dream_destination = np.array(['Japan','Iceland','Spain','Canada','Japan','South Africa'])\n",
    "flight_time = np.array([13,6,7,5,13,15])\n",
    "no_airports = np.array([98,38,59,518,98,234])\n",
    "\n",
    "print('Name:', name)\n",
    "print('Dream destination:', dream_destination)\n",
    "print('Flight time:', flight_time)\n",
    "print('No. of airports:', no_airports)"
   ]
  },
  {
   "cell_type": "markdown",
   "metadata": {},
   "source": [
    "### **Team 1:** Flight times to which destinations are higer than the average flight time."
   ]
  },
  {
   "cell_type": "markdown",
   "metadata": {},
   "source": [
    "```\n",
    "pseudocode\n",
    "```"
   ]
  },
  {
   "cell_type": "code",
   "execution_count": 24,
   "metadata": {},
   "outputs": [
    {
     "data": {
      "text/plain": [
       "array(['Japan', 'Japan', 'South Africa'], dtype='<U12')"
      ]
     },
     "execution_count": 24,
     "metadata": {},
     "output_type": "execute_result"
    }
   ],
   "source": [
    "#Hint\n",
    "#print('average value of A:',A.mean())\n",
    "\n",
    "avgFlight = (flight_time.mean())\n",
    "dream_destination[flight_time > avgFlight]"
   ]
  },
  {
   "cell_type": "markdown",
   "metadata": {},
   "source": [
    "### **Team 2:** Who has the most airports to choose from?"
   ]
  },
  {
   "cell_type": "markdown",
   "metadata": {},
   "source": [
    "```\n",
    "pseudocode\n",
    "```"
   ]
  },
  {
   "cell_type": "code",
   "execution_count": null,
   "metadata": {},
   "outputs": [],
   "source": [
    "#Hint\n",
    "print('maximum value of A:',A.max())\n",
    "\n"
   ]
  },
  {
   "cell_type": "code",
   "execution_count": null,
   "metadata": {},
   "outputs": [],
   "source": []
  }
 ],
 "metadata": {
  "kernelspec": {
   "display_name": "Python 3",
   "language": "python",
   "name": "python3"
  },
  "language_info": {
   "codemirror_mode": {
    "name": "ipython",
    "version": 3
   },
   "file_extension": ".py",
   "mimetype": "text/x-python",
   "name": "python",
   "nbconvert_exporter": "python",
   "pygments_lexer": "ipython3",
   "version": "3.7.3"
  }
 },
 "nbformat": 4,
 "nbformat_minor": 2
}
