{
 "cells": [
  {
   "cell_type": "markdown",
   "metadata": {},
   "source": [
    "# Introduction to numpy arrays\n",
    "\n",
    "What is an array? You can think of arrays as a grid with values of the same type. Arrays can be multi-dimensional. \n",
    "\n",
    "### 1D Arrays\n",
    "\n",
    "This is an example of a one dimensional (1D) array:\n",
    "\n",
    "![1D array](as3_2D_3D_arrays.gif)\n",
    "\n",
    "\n",
    "The 1D array has 1 row and 4 columns (remember Python begins indexing from 0) so it is a **1 x 10** array. Let's create the array above using numpy."
   ]
  },
  {
   "cell_type": "code",
   "execution_count": 2,
   "metadata": {},
   "outputs": [
    {
     "name": "stdout",
     "output_type": "stream",
     "text": [
      "[ 1  2  3  4  5  6  7  8  9 10]\n"
     ]
    }
   ],
   "source": [
    "import numpy as np\n",
    "a = np.array([1, 2, 3, 4, 5, 6, 7, 8, 9, 10])\n",
    "print(a)"
   ]
  },
  {
   "cell_type": "code",
   "execution_count": 3,
   "metadata": {},
   "outputs": [
    {
     "name": "stdout",
     "output_type": "stream",
     "text": [
      "Number of dimensions:  1\n",
      "Elements in array:  10\n",
      "(no. of columns):  (10,)\n"
     ]
    }
   ],
   "source": [
    "# Array's dimensions\n",
    "print(\"Number of dimensions: \", a.ndim)\n",
    "\n",
    "# Number of elements in array\n",
    "print(\"Elements in array: \", a.size)\n",
    "\n",
    "# Number of rows and columns\n",
    "print(\"(no. of columns): \", a.shape)"
   ]
  },
  {
   "cell_type": "code",
   "execution_count": 4,
   "metadata": {},
   "outputs": [
    {
     "data": {
      "text/plain": [
       "5"
      ]
     },
     "execution_count": 4,
     "metadata": {},
     "output_type": "execute_result"
    }
   ],
   "source": [
    "# Find 5 in the array\n",
    "\n",
    "a[4] # a[index]"
   ]
  },
  {
   "cell_type": "markdown",
   "metadata": {},
   "source": [
    "What if we want more than one element from the array? Then, we specify a range. \n",
    "\n",
    "If we want the first five elements, our range is 0:5:1 which means all elements from index **0** to index **4** (notice that the value of the 5th index is not included) in steps of 1.\n"
   ]
  },
  {
   "cell_type": "code",
   "execution_count": 5,
   "metadata": {},
   "outputs": [
    {
     "data": {
      "text/plain": [
       "array([1, 2, 3, 4, 5])"
      ]
     },
     "execution_count": 5,
     "metadata": {},
     "output_type": "execute_result"
    }
   ],
   "source": [
    "a[0:5:1] #first five elements of the array"
   ]
  },
  {
   "cell_type": "markdown",
   "metadata": {},
   "source": [
    "What about the last five elements?"
   ]
  },
  {
   "cell_type": "code",
   "execution_count": 6,
   "metadata": {},
   "outputs": [
    {
     "data": {
      "text/plain": [
       "array([1, 2, 3, 4, 5])"
      ]
     },
     "execution_count": 6,
     "metadata": {},
     "output_type": "execute_result"
    }
   ],
   "source": [
    "a[0:5:1]"
   ]
  },
  {
   "cell_type": "markdown",
   "metadata": {},
   "source": [
    "What about all the even numbers?"
   ]
  },
  {
   "cell_type": "code",
   "execution_count": 7,
   "metadata": {},
   "outputs": [
    {
     "ename": "SyntaxError",
     "evalue": "invalid syntax (<ipython-input-7-f195c1342970>, line 1)",
     "output_type": "error",
     "traceback": [
      "\u001b[0;36m  File \u001b[0;32m\"<ipython-input-7-f195c1342970>\"\u001b[0;36m, line \u001b[0;32m1\u001b[0m\n\u001b[0;31m    a[]\u001b[0m\n\u001b[0m      ^\u001b[0m\n\u001b[0;31mSyntaxError\u001b[0m\u001b[0;31m:\u001b[0m invalid syntax\n"
     ]
    }
   ],
   "source": [
    "a[]"
   ]
  },
  {
   "cell_type": "markdown",
   "metadata": {},
   "source": [
    "#### Quick shortcuts with ranges:\n",
    "The default start index is 0 and default end index is the last element in the array so if you don't specify an index, Python will takes these to be the default values. \n",
    "* a[ : ] - all elements. \n",
    "* a[ :5 ] - first five elements"
   ]
  },
  {
   "cell_type": "markdown",
   "metadata": {},
   "source": [
    "### 2D Arrays\n",
    "\n",
    "Let's make 'a' a two dimensional array with 2 rows and 5 columns i.e a **2 x 5** array. We use the function np.reshape(**number of rows**,**number of columns**)\n",
    "\n",
    "So now the array looks like this:\n",
    "\n",
    "| |0|1|2|3|4|\n",
    "|-|-|-|-|-|-|\n",
    "|**0**|1|2|3|4|x|\n",
    "|**1**|6|7|8|9|10|\n",
    "\n",
    "**5** is now in the 1st row and 5th column."
   ]
  },
  {
   "cell_type": "code",
   "execution_count": 8,
   "metadata": {},
   "outputs": [
    {
     "name": "stdout",
     "output_type": "stream",
     "text": [
      "[[ 1  2  3  4  5]\n",
      " [ 6  7  8  9 10]]\n"
     ]
    },
    {
     "data": {
      "text/plain": [
       "5"
      ]
     },
     "execution_count": 8,
     "metadata": {},
     "output_type": "execute_result"
    }
   ],
   "source": [
    "b = a.reshape(2,5)\n",
    "print(b)\n",
    "b[0,4] #b[row index, column index]"
   ]
  },
  {
   "cell_type": "markdown",
   "metadata": {},
   "source": [
    "What if we want the entire first row? "
   ]
  },
  {
   "cell_type": "code",
   "execution_count": 9,
   "metadata": {},
   "outputs": [
    {
     "name": "stdout",
     "output_type": "stream",
     "text": [
      "[1 2 3 4 5]\n",
      "[1 2 3 4 5]\n"
     ]
    }
   ],
   "source": [
    "print(b[0,0:5:1]) \n",
    "# or equivalently\n",
    "print(b[0,:])"
   ]
  },
  {
   "cell_type": "markdown",
   "metadata": {},
   "source": [
    "What about the first and second column?"
   ]
  },
  {
   "cell_type": "code",
   "execution_count": null,
   "metadata": {},
   "outputs": [],
   "source": []
  },
  {
   "cell_type": "markdown",
   "metadata": {},
   "source": [
    "### 3D Arrays\n",
    "\n",
    "Now, we'll remove the last two elements in the 1D array and make it three dimensional! So now it looks more like this:\n",
    "\n",
    "||0|1|\n",
    "|-|-|-|\n",
    "|**0**|1|2|\n",
    "|**1**|3|4|\n",
    "\n",
    "||0|1|\n",
    "|-|-|-|\n",
    "|**0**|x|6|\n",
    "|**1**|7|8|\n",
    "\n",
    "**5** is now in the 1st row and 1st column of the 2nd grid (i.e the third dimension)"
   ]
  },
  {
   "cell_type": "code",
   "execution_count": 10,
   "metadata": {},
   "outputs": [
    {
     "name": "stdout",
     "output_type": "stream",
     "text": [
      "[[[1 2]\n",
      "  [3 4]]\n",
      "\n",
      " [[5 6]\n",
      "  [7 8]]]\n"
     ]
    },
    {
     "data": {
      "text/plain": [
       "5"
      ]
     },
     "execution_count": 10,
     "metadata": {},
     "output_type": "execute_result"
    }
   ],
   "source": [
    "c = a[0:8].reshape(2,2,2)\n",
    "print(c)\n",
    "c[1,0,0] #c[grid index, row index, column index]"
   ]
  },
  {
   "cell_type": "markdown",
   "metadata": {},
   "source": [
    "### Recap\n",
    "\n",
    "![Multidimensional arrays](2D_3D_arrays.gif)\n",
    "\n",
    "The arrays above are given to you. Find the values in the red boxes. "
   ]
  },
  {
   "cell_type": "code",
   "execution_count": 11,
   "metadata": {},
   "outputs": [
    {
     "name": "stdout",
     "output_type": "stream",
     "text": [
      "[0 1 2 3 4]\n"
     ]
    }
   ],
   "source": [
    "#1D:\n",
    "a1 = np.arange(0,5,1) #for example\n",
    "print(a1)\n",
    "\n",
    "#insert value in red box"
   ]
  },
  {
   "cell_type": "code",
   "execution_count": 12,
   "metadata": {},
   "outputs": [
    {
     "name": "stdout",
     "output_type": "stream",
     "text": [
      "[[ 0  1  2  3  4]\n",
      " [ 5  6  7  8  9]\n",
      " [10 11 12 13 14]]\n"
     ]
    }
   ],
   "source": [
    "#2D:\n",
    "a2 = np.arange(0,15,1).reshape(3,5)\n",
    "print(a2)\n",
    "\n",
    "#insert value in red box"
   ]
  },
  {
   "cell_type": "code",
   "execution_count": 13,
   "metadata": {},
   "outputs": [
    {
     "name": "stdout",
     "output_type": "stream",
     "text": [
      "[[[ 0  1  2  3  4]\n",
      "  [ 5  6  7  8  9]\n",
      "  [10 11 12 13 14]]\n",
      "\n",
      " [[15 16 17 18 19]\n",
      "  [20 21 22 23 24]\n",
      "  [25 26 27 28 29]]\n",
      "\n",
      " [[30 31 32 33 34]\n",
      "  [35 36 37 38 39]\n",
      "  [40 41 42 43 44]]]\n"
     ]
    }
   ],
   "source": [
    "#3D:\n",
    "a3 = np.arange(0,45,1).reshape(3,3,5)\n",
    "print(a3)\n",
    "\n",
    "#insert value in red box"
   ]
  },
  {
   "cell_type": "markdown",
   "metadata": {},
   "source": [
    "### Array operations"
   ]
  },
  {
   "cell_type": "markdown",
   "metadata": {},
   "source": [
    "Use a for loop to multiply every element in the given array with 2 and print out the result. "
   ]
  },
  {
   "cell_type": "code",
   "execution_count": 14,
   "metadata": {},
   "outputs": [
    {
     "name": "stdout",
     "output_type": "stream",
     "text": [
      "[ 1  2  3  4  5  6  7  8  9 10]\n",
      "2\n",
      "4\n",
      "6\n",
      "8\n",
      "10\n",
      "12\n",
      "14\n",
      "16\n",
      "18\n",
      "20\n"
     ]
    }
   ],
   "source": [
    "array = np.arange(1,11,1)\n",
    "print(array)\n",
    "\n",
    "#for loop\n",
    "\n",
    "for i in array:\n",
    "    print(i*2)"
   ]
  },
  {
   "cell_type": "markdown",
   "metadata": {},
   "source": [
    "You could do the same thing by typing in:"
   ]
  },
  {
   "cell_type": "code",
   "execution_count": 15,
   "metadata": {},
   "outputs": [
    {
     "name": "stdout",
     "output_type": "stream",
     "text": [
      "1D:\n",
      " [ 2  4  6  8 10 12 14 16 18 20]\n",
      "2D:\n",
      " [[ 2  4  6  8 10]\n",
      " [12 14 16 18 20]]\n"
     ]
    }
   ],
   "source": [
    "print(\"1D:\\n\",array * 2)\n",
    "\n",
    "# Works for multi-dimensional arrays too!\n",
    "array2 = array.reshape(2,5)\n",
    "print(\"2D:\\n\", array2*2)"
   ]
  },
  {
   "cell_type": "code",
   "execution_count": 16,
   "metadata": {},
   "outputs": [
    {
     "name": "stdout",
     "output_type": "stream",
     "text": [
      "[ 1  2  3  4  5  6  7  8  9 10]\n",
      "Addition:\n",
      " [ 2  4  6  8 10 12 14 16 18 20]\n",
      "Subtraction:\n",
      " [0 0 0 0 0 0 0 0 0 0]\n",
      "Division:\n",
      " [0.5 1.  1.5 2.  2.5 3.  3.5 4.  4.5 5. ]\n",
      "Modulus:\n",
      " [1 0 1 0 1 0 1 0 1 0]\n",
      "Power:\n",
      " [  1   4   9  16  25  36  49  64  81 100]\n"
     ]
    }
   ],
   "source": [
    "# Similarly, you can also do\n",
    "\n",
    "print(array)\n",
    "\n",
    "#Addition\n",
    "print(\"Addition:\\n\", array + array)\n",
    "\n",
    "#Subtraction\n",
    "print(\"Subtraction:\\n\",array - array)\n",
    "\n",
    "#Division\n",
    "print(\"Division:\\n\",array/2)\n",
    "\n",
    "#Remainder or modulus\n",
    "print(\"Modulus:\\n\",array%2)\n",
    "\n",
    "#Power\n",
    "print(\"Power:\\n\",array**2)"
   ]
  },
  {
   "cell_type": "code",
   "execution_count": 17,
   "metadata": {},
   "outputs": [],
   "source": [
    "import os\n",
    "os.getcwd()\n",
    "os.chdir(\"/Users/brownscholar/Dropbox/BridgeUp_ClimateCoders/Data\")"
   ]
  },
  {
   "cell_type": "code",
   "execution_count": 24,
   "metadata": {},
   "outputs": [
    {
     "name": "stdout",
     "output_type": "stream",
     "text": [
      "[30.045000076293945 29.98499870300293 30.03499984741211 ...\n",
      " 29.885000228881836 29.934999465942383 29.994998931884766]\n",
      "(4320, 8640)\n"
     ]
    }
   ],
   "source": [
    "from netCDF4 import Dataset #import Dataset from the netCDF4 package\n",
    "data = Dataset(\"A20192132019243.L3m_MO_SST_sst_4km.nc\") # SST = sea surface temperature\n",
    "sst= data.variables['sst']\n",
    "print(sst[2159,:])\n",
    "print(sst.shape)"
   ]
  },
  {
   "cell_type": "markdown",
   "metadata": {},
   "source": [
    "### Challenge\n",
    "\n",
    "Import the satellite data of sea surface temperture we worked with last class. Just use the data along the equator i.e the 2160th element\n",
    "1. Convert all the entries from Celsius to Fahrenheit using F = 9/5 C + 32\n",
    "1. Find the average temperature \n",
    "    * *Hint:* Check out the documentation for numpy's mean function (http://lagrange.univ-lyon1.fr/docs/numpy/1.11.0/reference/generated/numpy.mean.html)\n",
    "1. Subtract each temperature with the average temperature. You've just calculated sea surface temperature anomalies!\n",
    "1. Plot out your results using matplotlib."
   ]
  },
  {
   "cell_type": "markdown",
   "metadata": {},
   "source": [
    "Insert pseudocode here:\n",
    "```\n",
    "pseudocode\n",
    "```"
   ]
  },
  {
   "cell_type": "code",
   "execution_count": null,
   "metadata": {},
   "outputs": [],
   "source": [
    "var= data.variable "
   ]
  },
  {
   "cell_type": "code",
   "execution_count": null,
   "metadata": {},
   "outputs": [],
   "source": []
  }
 ],
 "metadata": {
  "kernelspec": {
   "display_name": "Python 3",
   "language": "python",
   "name": "python3"
  },
  "language_info": {
   "codemirror_mode": {
    "name": "ipython",
    "version": 3
   },
   "file_extension": ".py",
   "mimetype": "text/x-python",
   "name": "python",
   "nbconvert_exporter": "python",
   "pygments_lexer": "ipython3",
   "version": "3.7.3"
  }
 },
 "nbformat": 4,
 "nbformat_minor": 2
}
