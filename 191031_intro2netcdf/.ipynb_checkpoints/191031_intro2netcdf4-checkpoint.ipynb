{
 "cells": [
  {
   "cell_type": "markdown",
   "metadata": {},
   "source": [
    "# Introduction to netCDF4\n",
    "\n",
    "netCDF (or Network Common Data Form) files are way of storing multidimensional data so it can be shared by scientists on different computers, different operating systems, and using different programming languages. In this module, we'll take a look at why it is so widely used by oceanographers and climate scientists today. "
   ]
  },
  {
   "cell_type": "markdown",
   "metadata": {},
   "source": [
    "Let's first install the netCDF4 module that reads .netcdf files in Python.\n",
    "\n",
    "1. Open Terminal\n",
    "1. Check if the netcdf4 module is available for installation using ```conda search netcdf4```. This should give you a list of versions of the module.\n",
    "1. Type in ```conda install netcdf4``` to install the latest version.\n",
    "1. Check if the module has been installed using ```conda list```."
   ]
  },
  {
   "cell_type": "markdown",
   "metadata": {},
   "source": [
    "We will be working with satellite measurements of [sea-surface temperature from NASA](https://neo.sci.gsfc.nasa.gov/view.php?datasetId=MYD28M).  This a quick video on how the Aqua satellite collects this data https://www.youtube.com/watch?v=unlfchZaRo0.\n",
    "\n",
    "![AQUA satellite](https://sealevel.nasa.gov/system/missions/images/2_aqua_deploy.1.jpg)\n",
    "\n",
    "\n",
    "\n",
    "Let's import this dataset for the month of August, 2019 using the function Dataset(**file_name**) from the netCDF4 package."
   ]
  },
  {
   "cell_type": "code",
   "execution_count": 2,
   "metadata": {},
   "outputs": [],
   "source": [
    "from netCDF4 import Dataset #import Dataset from the netCDF4 package\n",
    "data = Dataset(\"A20192132019243.L3m_MO_SST_sst_4km.nc\") # SST = sea surface temperature"
   ]
  },
  {
   "cell_type": "markdown",
   "metadata": {},
   "source": [
    "If you were working with this dataset, you would want to know who collected it, when the data was acquired, what methods they used etc. This is called \"metadata,\" which is basically data about the data. In a .netcdf file, these are its attributes. We can access this by calling ncattrs (shorthand for **n**et**c**df **attr**ibute**s**)."
   ]
  },
  {
   "cell_type": "code",
   "execution_count": 3,
   "metadata": {},
   "outputs": [
    {
     "data": {
      "text/plain": [
       "['product_name',\n",
       " 'instrument',\n",
       " 'title',\n",
       " 'project',\n",
       " 'platform',\n",
       " 'temporal_range',\n",
       " 'processing_version',\n",
       " 'date_created',\n",
       " 'history',\n",
       " 'l2_flag_names',\n",
       " 'time_coverage_start',\n",
       " 'time_coverage_end',\n",
       " 'start_orbit_number',\n",
       " 'end_orbit_number',\n",
       " 'map_projection',\n",
       " 'latitude_units',\n",
       " 'longitude_units',\n",
       " 'northernmost_latitude',\n",
       " 'southernmost_latitude',\n",
       " 'westernmost_longitude',\n",
       " 'easternmost_longitude',\n",
       " 'geospatial_lat_max',\n",
       " 'geospatial_lat_min',\n",
       " 'geospatial_lon_max',\n",
       " 'geospatial_lon_min',\n",
       " 'latitude_step',\n",
       " 'longitude_step',\n",
       " 'sw_point_latitude',\n",
       " 'sw_point_longitude',\n",
       " 'geospatial_lon_resolution',\n",
       " 'geospatial_lat_resolution',\n",
       " 'geospatial_lat_units',\n",
       " 'geospatial_lon_units',\n",
       " 'spatialResolution',\n",
       " 'number_of_lines',\n",
       " 'number_of_columns',\n",
       " 'measure',\n",
       " 'suggested_image_scaling_minimum',\n",
       " 'suggested_image_scaling_maximum',\n",
       " 'suggested_image_scaling_type',\n",
       " 'suggested_image_scaling_applied',\n",
       " '_lastModified',\n",
       " 'Conventions',\n",
       " 'institution',\n",
       " 'standard_name_vocabulary',\n",
       " 'naming_authority',\n",
       " 'id',\n",
       " 'license',\n",
       " 'creator_name',\n",
       " 'publisher_name',\n",
       " 'creator_email',\n",
       " 'publisher_email',\n",
       " 'creator_url',\n",
       " 'publisher_url',\n",
       " 'processing_level',\n",
       " 'cdm_data_type',\n",
       " 'keywords',\n",
       " 'keywords_vocabulary',\n",
       " 'data_bins',\n",
       " 'data_minimum',\n",
       " 'data_maximum']"
      ]
     },
     "execution_count": 3,
     "metadata": {},
     "output_type": "execute_result"
    }
   ],
   "source": [
    "data.ncattrs()"
   ]
  },
  {
   "cell_type": "markdown",
   "metadata": {},
   "source": [
    "To access more information about a particular attribute, type in name you've given your dataset followed by a period (\".\")."
   ]
  },
  {
   "cell_type": "code",
   "execution_count": 17,
   "metadata": {},
   "outputs": [
    {
     "name": "stdout",
     "output_type": "stream",
     "text": [
      "data@oceancolor.gsfc.nasa.gov\n"
     ]
    }
   ],
   "source": [
    "#example:\n",
    "print(data.creator_email) "
   ]
  },
  {
   "cell_type": "markdown",
   "metadata": {},
   "source": [
    "Our global sea surface temperature data is saved as a two-dimensional array. \n",
    "\n",
    "Take a break a play the Battleship Game: https://www.battleshiponline.org. You are given a grid (i.e a two dimensional array) and you have identify where your enemy ships are by selecting a x and y coordinate on the grid.\n",
    "\n",
    "Similarly for our data, the x-axis is latitude ('lat') and the y-axis is longitude ('lon'). The sea surface temperature is like the location of the ships. It provides additional information for each location point selected.\n",
    "\n",
    "![lat and long grid](https://www.ncl.ucar.edu/Applications/Images/mapgrid_1_lg.png)"
   ]
  },
  {
   "cell_type": "markdown",
   "metadata": {},
   "source": [
    "The dimensions tell you the size of the dataset. You can access the dimensions of the dataset by calling **dataset.dimensions**. Notice that the output is a dictionary. \n",
    "\n",
    "There are also some dimensions that do not have any physical meaning namely 'rgb' and 'eightbitcolor'. These will become useful when mapping the data and will ignore them for now. "
   ]
  },
  {
   "cell_type": "code",
   "execution_count": 18,
   "metadata": {},
   "outputs": [
    {
     "data": {
      "text/plain": [
       "OrderedDict([('lat',\n",
       "              <class 'netCDF4._netCDF4.Dimension'>: name = 'lat', size = 4320),\n",
       "             ('lon',\n",
       "              <class 'netCDF4._netCDF4.Dimension'>: name = 'lon', size = 8640),\n",
       "             ('rgb',\n",
       "              <class 'netCDF4._netCDF4.Dimension'>: name = 'rgb', size = 3),\n",
       "             ('eightbitcolor',\n",
       "              <class 'netCDF4._netCDF4.Dimension'>: name = 'eightbitcolor', size = 256)])"
      ]
     },
     "execution_count": 18,
     "metadata": {},
     "output_type": "execute_result"
    }
   ],
   "source": [
    "data.dimensions"
   ]
  },
  {
   "cell_type": "markdown",
   "metadata": {},
   "source": [
    "We can see the \"keys,\" or dimension names, with **dataset.dimensions.keys()**"
   ]
  },
  {
   "cell_type": "code",
   "execution_count": 19,
   "metadata": {},
   "outputs": [
    {
     "data": {
      "text/plain": [
       "odict_keys(['lat', 'lon', 'rgb', 'eightbitcolor'])"
      ]
     },
     "execution_count": 19,
     "metadata": {},
     "output_type": "execute_result"
    }
   ],
   "source": [
    "data.dimensions.keys()"
   ]
  },
  {
   "cell_type": "markdown",
   "metadata": {},
   "source": [
    "If you want to see a specific dimension, you can do so by adding brackets and the dimension name in quotes. i.e. **dataset.dimensions['lat']**."
   ]
  },
  {
   "cell_type": "code",
   "execution_count": 20,
   "metadata": {},
   "outputs": [
    {
     "data": {
      "text/plain": [
       "<class 'netCDF4._netCDF4.Dimension'>: name = 'lat', size = 4320"
      ]
     },
     "execution_count": 20,
     "metadata": {},
     "output_type": "execute_result"
    }
   ],
   "source": [
    "data.dimensions['lat']"
   ]
  },
  {
   "cell_type": "markdown",
   "metadata": {},
   "source": [
    "Like you did earlier, to pull out a particular attribute of this dimensions (in this case size) you would type in **dataset.dimensions['lat'].size**. Create a tuple which gives you the size of the grid i.e the size of the latitude and longitude dimensions."
   ]
  },
  {
   "cell_type": "code",
   "execution_count": null,
   "metadata": {},
   "outputs": [],
   "source": [
    "latitudeSize = 0\n",
    "longitudeSize = 0\n",
    "gridSize = (latitudeSize,longitudeSize)\n",
    "print(gridSize)"
   ]
  },
  {
   "cell_type": "markdown",
   "metadata": {},
   "source": [
    "Now, we are ready to look at the variables we're playing with using **dataset.variables.\"something\"**. First output the names of these variables. \n",
    "\n",
    "Hint: refer back to our steps for looking at the dimensions of the dataset. "
   ]
  },
  {
   "cell_type": "code",
   "execution_count": null,
   "metadata": {},
   "outputs": [],
   "source": []
  },
  {
   "cell_type": "markdown",
   "metadata": {},
   "source": [
    "Now, the variables themselves. This is a lot of information so try doing just the variable 'sst' instead. \n",
    "\n",
    "Hint: again refer back to our steps for looking at the dimensions of the dataset. "
   ]
  },
  {
   "cell_type": "code",
   "execution_count": 21,
   "metadata": {},
   "outputs": [
    {
     "data": {
      "text/plain": [
       "<class 'netCDF4._netCDF4.Variable'>\n",
       "int16 sst(lat, lon)\n",
       "    long_name: Sea Surface Temperature\n",
       "    scale_factor: 0.005\n",
       "    add_offset: 0.0\n",
       "    units: degree_C\n",
       "    standard_name: sea_surface_temperature\n",
       "    _FillValue: -32767\n",
       "    valid_min: -1000\n",
       "    valid_max: 10000\n",
       "    display_scale: linear\n",
       "    display_min: -2.0\n",
       "    display_max: 45.0\n",
       "unlimited dimensions: \n",
       "current shape = (4320, 8640)\n",
       "filling on"
      ]
     },
     "execution_count": 21,
     "metadata": {},
     "output_type": "execute_result"
    }
   ],
   "source": [
    "data.variables['sst']"
   ]
  },
  {
   "cell_type": "markdown",
   "metadata": {},
   "source": [
    "Look over the attributes to the this variable like its name, units, etc. Are there any that don't make sense? Note them down and we'll discuss it together. \n",
    "\n",
    "We can access any one of these attributes by calling it directly. Just add a period at the end of your call to a variable and add in the attribute name."
   ]
  },
  {
   "cell_type": "code",
   "execution_count": 22,
   "metadata": {},
   "outputs": [
    {
     "data": {
      "text/plain": [
       "'Sea Surface Temperature'"
      ]
     },
     "execution_count": 22,
     "metadata": {},
     "output_type": "execute_result"
    }
   ],
   "source": [
    "#example\n",
    "data.variables['sst'].long_name"
   ]
  },
  {
   "cell_type": "markdown",
   "metadata": {},
   "source": [
    "What is the shape (or size) of this variable? Does it match it up to the grid size we figured out earlier? Test this out using code!\n",
    "\n",
    "Hint: **dataset.variables['sst'].shape** gives you the size of the variable."
   ]
  },
  {
   "cell_type": "code",
   "execution_count": 24,
   "metadata": {},
   "outputs": [
    {
     "data": {
      "text/plain": [
       "(4320, 8640)"
      ]
     },
     "execution_count": 24,
     "metadata": {},
     "output_type": "execute_result"
    }
   ],
   "source": [
    "data.variables['sst'].shape"
   ]
  },
  {
   "cell_type": "markdown",
   "metadata": {},
   "source": [
    "Now working with a partner, draw out the structure of the dataset we looked at today. \n",
    "\n",
    "Can you imagine packing all of this information onto a list or an excel sheet? This is why .netcdf files are so useful!"
   ]
  }
 ],
 "metadata": {
  "kernelspec": {
   "display_name": "Python 3",
   "language": "python",
   "name": "python3"
  },
  "language_info": {
   "codemirror_mode": {
    "name": "ipython",
    "version": 3
   },
   "file_extension": ".py",
   "mimetype": "text/x-python",
   "name": "python",
   "nbconvert_exporter": "python",
   "pygments_lexer": "ipython3",
   "version": "3.7.4"
  }
 },
 "nbformat": 4,
 "nbformat_minor": 2
}
