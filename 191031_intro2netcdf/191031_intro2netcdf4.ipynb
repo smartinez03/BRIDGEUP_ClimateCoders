{
 "cells": [
  {
   "cell_type": "markdown",
   "metadata": {},
   "source": [
    "# Introduction to netCDF4\n",
    "\n",
    "netCDF (or Network Common Data Form) files are way of storing multidimensional data so it can be shared by scientists on different computers, different operating systems, and using different programming languages. In this module, we'll take a look at why it is so widely used by oceanographers and climate scientists today. "
   ]
  },
  {
   "cell_type": "markdown",
   "metadata": {},
   "source": [
    "Let's first install the netCDF4 module that reads .netcdf files in Python.\n",
    "\n",
    "1. Open Terminal\n",
    "1. Check if the netcdf4 module is available for installation using ```conda search netcdf4```. This should give you a list of versions of the module.\n",
    "1. Type in ```conda install netcdf4``` to install the latest version.\n",
    "1. Check if the module has been installed using ```conda list```."
   ]
  },
  {
   "cell_type": "markdown",
   "metadata": {},
   "source": [
    "We will be working with satellite measurements of [sea-surface temperature from NASA](https://neo.sci.gsfc.nasa.gov/view.php?datasetId=MYD28M).  This a quick video on how the Aqua satellite collects this data https://www.youtube.com/watch?v=unlfchZaRo0.\n",
    "\n",
    "![AQUA satellite](https://sealevel.nasa.gov/system/missions/images/2_aqua_deploy.1.jpg)\n",
    "\n",
    "\n",
    "\n",
    "Let's import this dataset for the month of August, 2019 using the function Dataset(**file_name**) from the netCDF4 package."
   ]
  },
  {
   "cell_type": "code",
   "execution_count": 4,
   "metadata": {},
   "outputs": [],
   "source": [
    "from netCDF4 import Dataset #import Dataset from the netCDF4 package\n",
    "data = Dataset(\"A20192132019243.L3m_MO_SST_sst_4km.nc\") # SST = sea surface temperature"
   ]
  },
  {
   "cell_type": "markdown",
   "metadata": {},
   "source": [
    "If you were working with this dataset, you would want to know who collected it, when the data was acquired, what methods they used etc. This is called \"metadata,\" which is basically data about the data. In a .netcdf file, these are its attributes. We can access these by just calling our data variable."
   ]
  },
  {
   "cell_type": "code",
   "execution_count": 5,
   "metadata": {},
   "outputs": [
    {
     "data": {
      "text/plain": [
       "<class 'netCDF4._netCDF4.Dataset'>\n",
       "root group (NETCDF4 data model, file format HDF5):\n",
       "    product_name: A20192132019243.L3m_MO_SST_sst_4km.nc\n",
       "    instrument: MODIS\n",
       "    title: MODISA Level-3 Standard Mapped Image\n",
       "    project: Ocean Biology Processing Group (NASA/GSFC/OBPG)\n",
       "    platform: Aqua\n",
       "    temporal_range: month\n",
       "    processing_version: 2014.0.1\n",
       "    date_created: 2019-09-18T20:24:53.000Z\n",
       "    history: l3mapgen par=A20192132019243.L3m_MO_SST_sst_4km.nc.param \n",
       "    l2_flag_names: LAND,HISOLZEN\n",
       "    time_coverage_start: 2019-08-01T00:35:01.000Z\n",
       "    time_coverage_end: 2019-09-01T02:59:59.000Z\n",
       "    start_orbit_number: 91712\n",
       "    end_orbit_number: 92164\n",
       "    map_projection: Equidistant Cylindrical\n",
       "    latitude_units: degrees_north\n",
       "    longitude_units: degrees_east\n",
       "    northernmost_latitude: 90.0\n",
       "    southernmost_latitude: -90.0\n",
       "    westernmost_longitude: -180.0\n",
       "    easternmost_longitude: 180.0\n",
       "    geospatial_lat_max: 90.0\n",
       "    geospatial_lat_min: -90.0\n",
       "    geospatial_lon_max: 180.0\n",
       "    geospatial_lon_min: -180.0\n",
       "    latitude_step: 0.041666668\n",
       "    longitude_step: 0.041666668\n",
       "    sw_point_latitude: -89.979164\n",
       "    sw_point_longitude: -179.97917\n",
       "    geospatial_lon_resolution: 4.6383123\n",
       "    geospatial_lat_resolution: 4.6383123\n",
       "    geospatial_lat_units: degrees_north\n",
       "    geospatial_lon_units: degrees_east\n",
       "    spatialResolution: 4.64 km\n",
       "    number_of_lines: 4320\n",
       "    number_of_columns: 8640\n",
       "    measure: Mean\n",
       "    suggested_image_scaling_minimum: -2.0\n",
       "    suggested_image_scaling_maximum: 45.0\n",
       "    suggested_image_scaling_type: LINEAR\n",
       "    suggested_image_scaling_applied: No\n",
       "    _lastModified: 2019-09-18T20:24:53.000Z\n",
       "    Conventions: CF-1.6 ACDD-1.3\n",
       "    institution: NASA Goddard Space Flight Center, Ocean Ecology Laboratory, Ocean Biology Processing Group\n",
       "    standard_name_vocabulary: CF Standard Name Table v36\n",
       "    naming_authority: gov.nasa.gsfc.sci.oceandata\n",
       "    id: A20192132019243.L3b_MO_SST.nc/L3/A20192132019243.L3b_MO_SST.nc\n",
       "    license: http://science.nasa.gov/earth-science/earth-science-data/data-information-policy/\n",
       "    creator_name: NASA/GSFC/OBPG\n",
       "    publisher_name: NASA/GSFC/OBPG\n",
       "    creator_email: data@oceancolor.gsfc.nasa.gov\n",
       "    publisher_email: data@oceancolor.gsfc.nasa.gov\n",
       "    creator_url: http://oceandata.sci.gsfc.nasa.gov\n",
       "    publisher_url: http://oceandata.sci.gsfc.nasa.gov\n",
       "    processing_level: L3 Mapped\n",
       "    cdm_data_type: grid\n",
       "    keywords: Earth Science > Oceans > Ocean Optics > Sea Surface Temperature\n",
       "    keywords_vocabulary: NASA Global Change Master Directory (GCMD) Science Keywords\n",
       "    data_bins: 17424707\n",
       "    data_minimum: -1.9749999\n",
       "    data_maximum: 39.989998\n",
       "    dimensions(sizes): lat(4320), lon(8640), rgb(3), eightbitcolor(256)\n",
       "    variables(dimensions): int16 \u001b[4msst\u001b[0m(lat,lon), uint8 \u001b[4mqual_sst\u001b[0m(lat,lon), float32 \u001b[4mlat\u001b[0m(lat), float32 \u001b[4mlon\u001b[0m(lon), uint8 \u001b[4mpalette\u001b[0m(rgb,eightbitcolor)\n",
       "    groups: processing_control"
      ]
     },
     "execution_count": 5,
     "metadata": {},
     "output_type": "execute_result"
    }
   ],
   "source": [
    "data"
   ]
  },
  {
   "cell_type": "markdown",
   "metadata": {},
   "source": [
    "To access a particular attribute, type in name you've given your dataset followed by a period (\".\"). Find the temporal range of this dataset i.e what time period the data was collected over. "
   ]
  },
  {
   "cell_type": "code",
   "execution_count": 17,
   "metadata": {},
   "outputs": [
    {
     "name": "stdout",
     "output_type": "stream",
     "text": [
      "data@oceancolor.gsfc.nasa.gov\n"
     ]
    }
   ],
   "source": [
    "#example:\n",
    "print(data.creator_email) "
   ]
  },
  {
   "cell_type": "markdown",
   "metadata": {},
   "source": [
    "Our global sea surface temperature data is saved as a two-dimensional array. \n",
    "\n",
    "Take a break a play the Battleship Game: https://www.battleshiponline.org. You are given a grid (i.e a two dimensional array) and you have identify where your enemy ships are by selecting a x and y coordinate on the grid.\n",
    "\n",
    "Similarly for our data, the x-axis is latitude ('lat') and the y-axis is longitude ('lon'). The sea surface temperature is like the location of the ships. It provides additional information for each location point selected.\n",
    "\n",
    "![lat and long grid](https://www.ncl.ucar.edu/Applications/Images/mapgrid_1_lg.png)"
   ]
  },
  {
   "cell_type": "markdown",
   "metadata": {},
   "source": [
    "The dimensions tell you the size of the dataset. You can access the dimensions of the dataset by calling **dataset.dimensions**. Notice that the output is a dictionary. \n",
    "\n",
    "There are also some dimensions that do not have any physical meaning namely 'rgb' and 'eightbitcolor'. These will become useful when mapping the data and will ignore them for now. "
   ]
  },
  {
   "cell_type": "code",
   "execution_count": 18,
   "metadata": {},
   "outputs": [
    {
     "data": {
      "text/plain": [
       "OrderedDict([('lat',\n",
       "              <class 'netCDF4._netCDF4.Dimension'>: name = 'lat', size = 4320),\n",
       "             ('lon',\n",
       "              <class 'netCDF4._netCDF4.Dimension'>: name = 'lon', size = 8640),\n",
       "             ('rgb',\n",
       "              <class 'netCDF4._netCDF4.Dimension'>: name = 'rgb', size = 3),\n",
       "             ('eightbitcolor',\n",
       "              <class 'netCDF4._netCDF4.Dimension'>: name = 'eightbitcolor', size = 256)])"
      ]
     },
     "execution_count": 18,
     "metadata": {},
     "output_type": "execute_result"
    }
   ],
   "source": [
    "data.dimensions"
   ]
  },
  {
   "cell_type": "markdown",
   "metadata": {},
   "source": [
    "We can see the \"keys,\" or dimension names, with **dataset.dimensions.keys()**"
   ]
  },
  {
   "cell_type": "code",
   "execution_count": 19,
   "metadata": {},
   "outputs": [
    {
     "data": {
      "text/plain": [
       "odict_keys(['lat', 'lon', 'rgb', 'eightbitcolor'])"
      ]
     },
     "execution_count": 19,
     "metadata": {},
     "output_type": "execute_result"
    }
   ],
   "source": [
    "data.dimensions.keys()"
   ]
  },
  {
   "cell_type": "markdown",
   "metadata": {},
   "source": [
    "If you want to see a specific dimension, you can do so by adding brackets and the dimension name in quotes. i.e. **dataset.dimensions['lat']**."
   ]
  },
  {
   "cell_type": "code",
   "execution_count": 20,
   "metadata": {},
   "outputs": [
    {
     "data": {
      "text/plain": [
       "<class 'netCDF4._netCDF4.Dimension'>: name = 'lat', size = 4320"
      ]
     },
     "execution_count": 20,
     "metadata": {},
     "output_type": "execute_result"
    }
   ],
   "source": [
    "data.dimensions['lat']"
   ]
  },
  {
   "cell_type": "markdown",
   "metadata": {},
   "source": [
    "Like you did earlier, to pull out a particular attribute of this dimensions (in this case size) you would type in **dataset.dimensions['lat'].size**. Create a tuple which gives you the size of the grid i.e the size of the latitude and longitude dimensions."
   ]
  },
  {
   "cell_type": "code",
   "execution_count": null,
   "metadata": {},
   "outputs": [],
   "source": [
    "latitudeSize = 0\n",
    "longitudeSize = 0\n",
    "gridSize = (latitudeSize,longitudeSize)\n",
    "print(gridSize)"
   ]
  },
  {
   "cell_type": "markdown",
   "metadata": {},
   "source": [
    "Now, we are ready to look at the variables we're playing with using **dataset.variables.\"something\"**. First output the names of these variables. \n",
    "\n",
    "Hint: refer back to our steps for looking at the dimensions of the dataset. "
   ]
  },
  {
   "cell_type": "code",
   "execution_count": null,
   "metadata": {},
   "outputs": [],
   "source": []
  },
  {
   "cell_type": "markdown",
   "metadata": {},
   "source": [
    "Now, the variables themselves. This is a lot of information so try doing just the variable 'sst' instead. \n",
    "\n",
    "Hint: again refer back to our steps for looking at the dimensions of the dataset. "
   ]
  },
  {
   "cell_type": "code",
   "execution_count": null,
   "metadata": {},
   "outputs": [],
   "source": []
  },
  {
   "cell_type": "markdown",
   "metadata": {},
   "source": [
    "Look over the attributes to the this variable like its name, units, etc. Are there any that don't make sense? Note them down and we'll discuss it together. \n",
    "\n",
    "We can access any one of these attributes by calling it directly. Just add a period at the end of your call to a variable and add in the attribute name."
   ]
  },
  {
   "cell_type": "code",
   "execution_count": null,
   "metadata": {},
   "outputs": [],
   "source": []
  },
  {
   "cell_type": "markdown",
   "metadata": {},
   "source": [
    "What is the shape (or size) of this variable? Does it match it up to the grid size we figured out earlier? Test this out using code!\n",
    "\n",
    "Hint: **dataset.variables['sst'].shape** gives you the size of the variable."
   ]
  },
  {
   "cell_type": "code",
   "execution_count": null,
   "metadata": {
    "scrolled": true
   },
   "outputs": [],
   "source": []
  },
  {
   "cell_type": "markdown",
   "metadata": {},
   "source": [
    "Now working with a partner, draw out the structure of the dataset we looked at today. \n",
    "\n",
    "Can you imagine packing all of this information onto a list or an excel sheet? This is why .netcdf files are so useful!"
   ]
  }
 ],
 "metadata": {
  "kernelspec": {
   "display_name": "Python 3",
   "language": "python",
   "name": "python3"
  },
  "language_info": {
   "codemirror_mode": {
    "name": "ipython",
    "version": 3
   },
   "file_extension": ".py",
   "mimetype": "text/x-python",
   "name": "python",
   "nbconvert_exporter": "python",
   "pygments_lexer": "ipython3",
   "version": "3.7.4"
  }
 },
 "nbformat": 4,
 "nbformat_minor": 2
}
