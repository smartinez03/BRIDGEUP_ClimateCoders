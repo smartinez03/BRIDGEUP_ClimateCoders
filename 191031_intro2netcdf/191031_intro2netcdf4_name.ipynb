{
 "cells": [
  {
   "cell_type": "markdown",
   "metadata": {},
   "source": [
    "# Introduction to netCDF4\n",
    "\n",
    "netCDF (or Network Common Data Form) files are way of storing multidimensional data so it can be shared by scientists on different computers, different operating systems, and using different programming languages. In this module, we'll take a look at why it is so widely used by oceanographers and climate scientists today. "
   ]
  },
  {
   "cell_type": "markdown",
   "metadata": {},
   "source": [
    "Let's first install the netCDF4 module that reads .netcdf files in Python.\n",
    "\n",
    "1. Open Terminal\n",
    "1. Check if the netcdf4 module is available for installation using ```conda search netcdf4```. This should give you a list of versions of the module.\n",
    "1. Type in ```conda install netcdf4``` to install the latest version.\n",
    "1. Check if the module has been installed using ```conda list```."
   ]
  },
  {
   "cell_type": "markdown",
   "metadata": {},
   "source": [
    "We will be working with satellite measurements of [sea-surface temperature from NASA](https://neo.sci.gsfc.nasa.gov/view.php?datasetId=MYD28M).  This a quick video on how the Aqua satellite collects this data https://www.youtube.com/watch?v=unlfchZaRo0.\n",
    "\n",
    "![AQUA satellite](https://sealevel.nasa.gov/system/missions/images/2_aqua_deploy.1.jpg)\n",
    "\n",
    "\n",
    "\n",
    "Let's import this dataset for the month of August, 2019 using the function Dataset(**file_name**) from the netCDF4 package. You might need to change the path of your file. This is tells Python where the file is the stored on your computer. "
   ]
  },
  {
   "cell_type": "code",
   "execution_count": null,
   "metadata": {},
   "outputs": [],
   "source": [
    "from netCDF4 import Dataset #import Dataset from the netCDF4 package\n",
    "data = Dataset(\"A20192132019243.L3m_MO_SST_sst_4km.nc\") # SST = sea surface temperature"
   ]
  },
  {
   "cell_type": "markdown",
   "metadata": {},
   "source": [
    "Let's just call the data variable and see what we get."
   ]
  },
  {
   "cell_type": "code",
   "execution_count": null,
   "metadata": {},
   "outputs": [],
   "source": [
    "data"
   ]
  },
  {
   "cell_type": "markdown",
   "metadata": {},
   "source": [
    "You probably notice that the **data** variable is ordered in this way:\n",
    "* attributes of the data: who collected the data, when was it acquired, what methods they used etc.\n",
    "* dimensions: size of the dataset\n",
    "* variables: the data itself i.e sea surface temperature, latitude, longitude etc.\n",
    "\n",
    "We will look at each of these in turn."
   ]
  },
  {
   "cell_type": "markdown",
   "metadata": {},
   "source": [
    "## Attributes\n",
    "To look at a particular attribute, type in **dataset.attribute_name** like so:"
   ]
  },
  {
   "cell_type": "code",
   "execution_count": null,
   "metadata": {},
   "outputs": [],
   "source": [
    "data.date_created"
   ]
  },
  {
   "cell_type": "markdown",
   "metadata": {},
   "source": [
    "To look at just the names of the attributes, you would use the function ncattrs()."
   ]
  },
  {
   "cell_type": "code",
   "execution_count": null,
   "metadata": {},
   "outputs": [],
   "source": [
    "data.ncattrs()"
   ]
  },
  {
   "cell_type": "markdown",
   "metadata": {},
   "source": [
    "What is the start and end time of the dataset i.e the time_coverage?"
   ]
  },
  {
   "cell_type": "code",
   "execution_count": null,
   "metadata": {},
   "outputs": [],
   "source": [
    "print(data.time_coverage_start)\n",
    "print(data.time_coverage_end)"
   ]
  },
  {
   "cell_type": "markdown",
   "metadata": {},
   "source": [
    "## Dimensions\n",
    "\n",
    "The dimensions tell you the size of the dataset. You can access the dimensions of the dataset by calling **dataset.dimensions**. Notice that the output is a dictionary. \n",
    "\n",
    "There are also some dimensions that do not have any physical meaning namely 'rgb' and 'eightbitcolor'. These will become useful when mapping the data and will ignore them for now. "
   ]
  },
  {
   "cell_type": "code",
   "execution_count": null,
   "metadata": {},
   "outputs": [],
   "source": [
    "data.dimensions"
   ]
  },
  {
   "cell_type": "markdown",
   "metadata": {},
   "source": [
    "We can see the \"keys,\" or dimension names, with **dataset.dimensions.keys()**"
   ]
  },
  {
   "cell_type": "code",
   "execution_count": null,
   "metadata": {},
   "outputs": [],
   "source": [
    "data.dimensions.keys()"
   ]
  },
  {
   "cell_type": "markdown",
   "metadata": {},
   "source": [
    "What are the dimensions of this dataset? Does it make sense?"
   ]
  },
  {
   "cell_type": "markdown",
   "metadata": {},
   "source": []
  },
  {
   "cell_type": "markdown",
   "metadata": {},
   "source": [
    "If you want to see a specific dimension, you can do so by adding brackets and the dimension name in quotes. i.e. **dataset.dimensions['lat']**."
   ]
  },
  {
   "cell_type": "code",
   "execution_count": null,
   "metadata": {},
   "outputs": [],
   "source": [
    "data.dimensions['lat']"
   ]
  },
  {
   "cell_type": "markdown",
   "metadata": {},
   "source": [
    "Like you did earlier, to pull out a particular attribute of this dimensions (in this case size) you would type in **dataset.dimensions['lat'].size**. Create a tuple which gives you the size of the latitude and longitude dimensions."
   ]
  },
  {
   "cell_type": "code",
   "execution_count": null,
   "metadata": {},
   "outputs": [],
   "source": [
    "latitudeSize = 0 #insert value here\n",
    "longitudeSize = 0 #insert value here\n",
    "gridSize = (latitudeSize,longitudeSize)\n",
    "print(gridSize)"
   ]
  },
  {
   "cell_type": "markdown",
   "metadata": {},
   "source": [
    "## Variables\n",
    "\n",
    "Our global sea surface temperature data is saved as a two-dimensional array. \n",
    "\n",
    "Take a break a play the Battleship Game: https://www.battleshiponline.org. You are given a grid (i.e a two dimensional array) and you have identify where your enemy ships are by selecting a x and y coordinate on the grid.\n",
    "\n",
    "Similarly for our data, the x-axis is latitude ('lat') and the y-axis is longitude ('lon'). The sea surface temperature is like the location of the ships. It provides additional information for each location point selected.\n",
    "\n",
    "![lat and long grid](https://www.ncl.ucar.edu/Applications/Images/mapgrid_1_lg.png)"
   ]
  },
  {
   "cell_type": "markdown",
   "metadata": {},
   "source": [
    "Now, we are ready to look at the variables we're playing with using **dataset.variables**. First output the names of these variables. \n",
    "\n",
    "Hint: refer back to our steps for looking at the dimensions of the dataset. "
   ]
  },
  {
   "cell_type": "code",
   "execution_count": null,
   "metadata": {},
   "outputs": [],
   "source": []
  },
  {
   "cell_type": "markdown",
   "metadata": {},
   "source": [
    "Output out just the variable 'sst'. \n",
    "\n",
    "Hint: again refer back to our steps for looking at the dimensions of the dataset. "
   ]
  },
  {
   "cell_type": "code",
   "execution_count": null,
   "metadata": {},
   "outputs": [],
   "source": []
  },
  {
   "cell_type": "markdown",
   "metadata": {},
   "source": [
    "Look over the attributes to the this variable like its name, units, etc. Are there any that don't make sense? Note them down and we'll discuss it together. \n",
    "\n",
    "Get the size of the 'sst' variable. \n",
    "\n",
    "Hint: This is called the **shape** of the dataset because it is two-dimensional."
   ]
  },
  {
   "cell_type": "code",
   "execution_count": null,
   "metadata": {},
   "outputs": [],
   "source": []
  },
  {
   "cell_type": "markdown",
   "metadata": {},
   "source": [
    "Does it match it up to the grid size we figured out earlier? Test this out using code!"
   ]
  },
  {
   "cell_type": "code",
   "execution_count": null,
   "metadata": {
    "scrolled": true
   },
   "outputs": [],
   "source": []
  },
  {
   "cell_type": "markdown",
   "metadata": {},
   "source": [
    "Now working with a partner, draw out the structure of the dataset we looked at today. \n",
    "\n",
    "Can you imagine packing all of this information onto a list or an excel sheet? This is why .netcdf files are so useful!"
   ]
  },
  {
   "cell_type": "markdown",
   "metadata": {},
   "source": [
    "## Acessing data\n",
    "\n",
    "Notice so far we haven't seen the data itself. We can do so by typing in **dataset**.variables[**variable_name**][:]. The data is saved as a masked array. This hides certain elements in the data. We'll see why that is useful when we plot the data."
   ]
  },
  {
   "cell_type": "code",
   "execution_count": null,
   "metadata": {},
   "outputs": [],
   "source": [
    "data.variables['sst'][:]"
   ]
  },
  {
   "cell_type": "markdown",
   "metadata": {},
   "source": [
    "To get the unmasked data, type in **dataset**.variables['**variable_name**'].data\n",
    "\n",
    "Notice that the fill value = -32767 mentioned above fills in anything that was True in the masked dataset. "
   ]
  },
  {
   "cell_type": "code",
   "execution_count": null,
   "metadata": {},
   "outputs": [],
   "source": [
    "data.variables['sst'][:].data"
   ]
  },
  {
   "cell_type": "markdown",
   "metadata": {},
   "source": [
    "We want to make sure that all the elements in the dataset aren't masked. To do so, let's play around with the indexing of the array. Skip the next section if you feel comfortable with indexing."
   ]
  },
  {
   "cell_type": "markdown",
   "metadata": {},
   "source": [
    "### Refresher on indexing with lists:"
   ]
  },
  {
   "cell_type": "code",
   "execution_count": null,
   "metadata": {},
   "outputs": [],
   "source": [
    "A = [0,1,2,3,4,5,6,7,8,9]\n",
    "print('for entire list: ', A[:])\n",
    "print('fifth element: ', A[4])\n",
    "print('first 3 elements: ', A[:3])\n",
    "print('last element: ', A[9], 'or ', A[-1])"
   ]
  },
  {
   "cell_type": "code",
   "execution_count": null,
   "metadata": {},
   "outputs": [],
   "source": [
    "# Output the last three elements in A\n"
   ]
  },
  {
   "cell_type": "code",
   "execution_count": null,
   "metadata": {},
   "outputs": [],
   "source": [
    "print('even numbers: ', A[0:10:2]) \n",
    "# note: this does not take into account the end index i.e 10\n",
    "\n",
    "#If you did A[10], Python would give you an error since there is no 11th element\n",
    "A[10]"
   ]
  },
  {
   "cell_type": "markdown",
   "metadata": {},
   "source": [
    "### Challenge:\n",
    "\n",
    "Plot out the 2160th row of the 'sst' grid against longitude.  Use the masked data. What does this approximately show?\n",
    "\n",
    "Hint: find out what the 2160th element in ```data.variables['lat']``` is. "
   ]
  },
  {
   "cell_type": "code",
   "execution_count": null,
   "metadata": {},
   "outputs": [],
   "source": []
  },
  {
   "cell_type": "code",
   "execution_count": null,
   "metadata": {},
   "outputs": [],
   "source": []
  }
 ],
 "metadata": {
  "kernelspec": {
   "display_name": "Python 3",
   "language": "python",
   "name": "python3"
  },
  "language_info": {
   "codemirror_mode": {
    "name": "ipython",
    "version": 3
   },
   "file_extension": ".py",
   "mimetype": "text/x-python",
   "name": "python",
   "nbconvert_exporter": "python",
   "pygments_lexer": "ipython3",
   "version": "3.7.4"
  }
 },
 "nbformat": 4,
 "nbformat_minor": 2
}
