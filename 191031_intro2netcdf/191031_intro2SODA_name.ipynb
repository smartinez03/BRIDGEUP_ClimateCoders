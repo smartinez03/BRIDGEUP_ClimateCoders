{
 "cells": [
  {
   "cell_type": "markdown",
   "metadata": {},
   "source": [
    "## Introduction to the SODA dataset\n",
    "\n",
    "For our research, we will be working with a dataset of ocean conditions called SODA or Simple Ocean Data Assimilation. This data combines experimental measurements of the ocean with modelled data to map out ocean conditions across the globe. The oceans are huge (almost 70% of the Earth's surface is covered by oceans) so it very difficult to get oceanographic measurements of every inch of it. Scientists instead use models based on their understanding of what influences the oceans to fill in the gaps in their measurements. They can also use models to go back in time to look at what oceans might have been like in the past.\n",
    "\n",
    "Data in SODA is saved as a grid kind of like this where every grid point is a measurement of a particular ocean condition like sea surface temperature.\n",
    "\n",
    "![lat and long grid](https://www.ncl.ucar.edu/Applications/Images/mapgrid_1_lg.png)"
   ]
  },
  {
   "cell_type": "markdown",
   "metadata": {},
   "source": [
    "Let's import the SODA dataset for 2017 and see what it has to offer. Refer to the Jupyter notebook introducing the netCDF4 module as a refresher on the functions you might need. \n",
    "\n",
    "This is the format in which the file is saved:\n",
    "* **soda**: the name of the dataset\n",
    "* **3.12.2**: version number\n",
    "* **mn**: monthly \n",
    "* **ocean**: because we're interested in the ocean!\n",
    "* **reg**: the data is saved as a grid\n",
    "* **2017**: the year of interest"
   ]
  },
  {
   "cell_type": "markdown",
   "metadata": {},
   "source": [
    "Import the .netcdf file using the netcdf4 module"
   ]
  },
  {
   "cell_type": "code",
   "execution_count": null,
   "metadata": {},
   "outputs": [],
   "source": [
    "from netCDF4 import Dataset\n",
    "\n",
    "fileName = 'soda3.12.2_mn_ocean_reg_2017.nc'"
   ]
  },
  {
   "cell_type": "markdown",
   "metadata": {},
   "source": [
    "What are its attributes?"
   ]
  },
  {
   "cell_type": "code",
   "execution_count": null,
   "metadata": {},
   "outputs": [],
   "source": []
  },
  {
   "cell_type": "markdown",
   "metadata": {},
   "source": [
    "What are its dimensions?"
   ]
  },
  {
   "cell_type": "code",
   "execution_count": null,
   "metadata": {},
   "outputs": [],
   "source": []
  },
  {
   "cell_type": "markdown",
   "metadata": {},
   "source": [
    "What are its variables?"
   ]
  },
  {
   "cell_type": "code",
   "execution_count": null,
   "metadata": {},
   "outputs": [],
   "source": []
  },
  {
   "cell_type": "markdown",
   "metadata": {},
   "source": [
    "Let's look at the 'temp' variable. \n",
    "\n",
    "It has four dimensions:\n",
    "* time: month\n",
    "* st_ocean: depth (in meters)\n",
    "* yt_ocean: y coordinate i.e longitude\n",
    "* xt_ocean: x coordinate i.e latitude\n",
    "\n",
    "What is its **shape**?"
   ]
  },
  {
   "cell_type": "code",
   "execution_count": null,
   "metadata": {},
   "outputs": [],
   "source": []
  },
  {
   "cell_type": "markdown",
   "metadata": {},
   "source": [
    "Look at the 'temp' data. How is this data stored? Does it look familiar?"
   ]
  },
  {
   "cell_type": "code",
   "execution_count": null,
   "metadata": {},
   "outputs": [],
   "source": []
  },
  {
   "cell_type": "markdown",
   "metadata": {},
   "source": [
    "Draw out a structure of what you think the data looks like."
   ]
  },
  {
   "cell_type": "code",
   "execution_count": null,
   "metadata": {},
   "outputs": [],
   "source": []
  }
 ],
 "metadata": {
  "kernelspec": {
   "display_name": "Python 3",
   "language": "python",
   "name": "python3"
  },
  "language_info": {
   "codemirror_mode": {
    "name": "ipython",
    "version": 3
   },
   "file_extension": ".py",
   "mimetype": "text/x-python",
   "name": "python",
   "nbconvert_exporter": "python",
   "pygments_lexer": "ipython3",
   "version": "3.7.4"
  }
 },
 "nbformat": 4,
 "nbformat_minor": 2
}
