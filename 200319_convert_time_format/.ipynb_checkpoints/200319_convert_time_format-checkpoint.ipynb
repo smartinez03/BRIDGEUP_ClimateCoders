{
 "cells": [
  {
   "cell_type": "markdown",
   "metadata": {},
   "source": [
    "## Convert time format\n",
    "\n",
    "Our next step in processing our data is making our dates readable. \n",
    "\n",
    "For example:\n",
    "\n",
    "1880.5 = 1880 + ½ of a year = 1880 + 6 months = 06/1880 or June 1880\n",
    "\n",
    "**Our goal**: Convert the date column into separate columns for year and month"
   ]
  },
  {
   "cell_type": "markdown",
   "metadata": {},
   "source": [
    "### Step 1: Do it for one date \n",
    "\n",
    "**Some useful functions**\n",
    "\n",
    "numpy.ceil(**x**) : Returns the number x rounded to the closest and largest whole number\n",
    "* **x**: number or array\n",
    "\n",
    "numpy.floor(**x**) : Returns the number x rounded to the closest and smallest whole number\n",
    "* **x**: number or array\n",
    "\n",
    "numpy.round(**x**, **decimels**) : Returns the rounded number x or rounds all elements in array\n",
    "* **x**: number or array\n",
    "* **decimels**: number of decimels to round to\n",
    "\n",
    "numpy_array.astype(**data type**) : Converts elements in array to a different data type\n",
    "* **data type**: int, float, string etc"
   ]
  },
  {
   "cell_type": "code",
   "execution_count": 4,
   "metadata": {},
   "outputs": [],
   "source": [
    "import numpy as np"
   ]
  },
  {
   "cell_type": "code",
   "execution_count": 5,
   "metadata": {},
   "outputs": [
    {
     "name": "stdout",
     "output_type": "stream",
     "text": [
      "number: 2.5\n",
      "np.ceil(number): 3.0\n",
      "np.floor(number): 2.0\n",
      "np.round(number): 2.0\n",
      "\n",
      " array: [2.75 2.8  2.85 2.9  2.95 3.   3.05 3.1  3.15 3.2 ]\n",
      "np.ceil(array): [3. 3. 3. 3. 3. 3. 4. 4. 4. 4.]\n",
      "np.floor(array): [2. 2. 2. 2. 2. 2. 3. 3. 3. 3.]\n",
      "np.round(array): [3. 3. 3. 3. 3. 3. 3. 3. 3. 3.]\n",
      "\n",
      " array with elements as int: [2 2 2 2 2 2 3 3 3 3]\n"
     ]
    }
   ],
   "source": [
    "#Useful functions\n",
    "\n",
    "test = 2.5\n",
    "print('number:',test)\n",
    "print('np.ceil(number):', np.ceil(2.5))\n",
    "print('np.floor(number):', np.floor(2.5))\n",
    "print('np.round(number):', np.round(2.5,0))\n",
    "\n",
    "test_array = np.arange(2.75,3.25,0.05)\n",
    "print('\\n array:',test_array)\n",
    "print('np.ceil(array):', np.ceil(test_array))\n",
    "print('np.floor(array):', np.floor(test_array))\n",
    "print('np.round(array):', np.round(test_array,0))\n",
    "\n",
    "print('\\n array with elements as int:',test_array.astype(int))"
   ]
  },
  {
   "cell_type": "markdown",
   "metadata": {},
   "source": [
    "Let's start small. Find the year and month associated with the given test date."
   ]
  },
  {
   "cell_type": "code",
   "execution_count": 6,
   "metadata": {},
   "outputs": [
    {
     "name": "stdout",
     "output_type": "stream",
     "text": [
      "1880.5\n",
      "year: 1880.0\n",
      "month: 6.0\n"
     ]
    }
   ],
   "source": [
    "date = 1880.5\n",
    "year= np.floor(date)\n",
    "print(date)\n",
    "print('year:', np.floor(date))\n",
    "print('month:', 12*(date- year))\n",
    "#What do these variables equal?\n",
    "#year = 1880\n",
    "#month = 6 (june)"
   ]
  },
  {
   "cell_type": "markdown",
   "metadata": {},
   "source": [
    "### Step 2: Do it for an array of dates \n",
    "\n",
    "Remember: you can run operations on numpy arrays like they are numbers\n",
    "\n",
    "For example:\n",
    "\n",
    "```A = [1 , 2, 3]```\n",
    "\n",
    "```A * 2 = [2 , 4, 6]```"
   ]
  },
  {
   "cell_type": "code",
   "execution_count": 13,
   "metadata": {},
   "outputs": [
    {
     "name": "stdout",
     "output_type": "stream",
     "text": [
      "[1880.         1880.08333333 1880.16666667 1880.25       1880.33333333\n",
      " 1880.41666667 1880.5        1880.58333333 1880.66666667 1880.75\n",
      " 1880.83333333 1880.91666667 1881.         1881.08333333 1881.16666667\n",
      " 1881.25       1881.33333333 1881.41666667 1881.5        1881.58333333\n",
      " 1881.66666667 1881.75       1881.83333333 1881.91666667 1882.        ]\n",
      "[1880. 1880. 1880. 1880. 1880. 1880. 1880. 1880. 1880. 1880. 1880. 1880.\n",
      " 1880. 1881. 1881. 1881. 1881. 1881. 1881. 1881. 1881. 1881. 1881. 1881.\n",
      " 1881.]\n",
      "[ 1.  2.  3.  4.  5.  6.  7.  8.  9. 10. 11. 12. 13.  2.  3.  4.  5.  6.\n",
      "  7.  8.  9. 10. 11. 12. 13.]\n"
     ]
    }
   ],
   "source": [
    "date_array = np.arange(1880, 1882.05, 1/12)\n",
    "print(date_array)\n",
    "rounded_year_array= np.floor(date_array)\n",
    "month_array= 12*(date_array-rounded_year_array)+1\n",
    "#What do these arrays equal?\n",
    "#year_array = \n",
    "#month_array =\n",
    "print(rounded_year_array)\n",
    "print(month_array)"
   ]
  },
  {
   "cell_type": "markdown",
   "metadata": {},
   "source": [
    "### Step 3: Do this for a Pandas data column\n",
    "\n",
    "Remember: pandas columns work exactly like numpy arrays"
   ]
  },
  {
   "cell_type": "code",
   "execution_count": 8,
   "metadata": {},
   "outputs": [],
   "source": [
    "import pandas as pd"
   ]
  },
  {
   "cell_type": "code",
   "execution_count": 14,
   "metadata": {},
   "outputs": [
    {
     "name": "stdout",
     "output_type": "stream",
     "text": [
      "0      1.0\n",
      "1      2.0\n",
      "2      3.0\n",
      "3      4.0\n",
      "4      5.0\n",
      "5      6.0\n",
      "6      7.0\n",
      "7      8.0\n",
      "8      9.0\n",
      "9     10.0\n",
      "10    11.0\n",
      "11    12.0\n",
      "12     1.0\n",
      "13     2.0\n",
      "14     3.0\n",
      "15     4.0\n",
      "16     5.0\n",
      "17     6.0\n",
      "18     7.0\n",
      "19     8.0\n",
      "20     9.0\n",
      "21    10.0\n",
      "22    11.0\n",
      "23    12.0\n",
      "24     1.0\n",
      "Name: Date, dtype: float64\n"
     ]
    }
   ],
   "source": [
    "date_df = pd.DataFrame({'Date':date_array,'Data':np.random.rand(len(date_array))})\n",
    "date_df.head()\n",
    "rounded_year= np.round(date_df['Date'],3)\n",
    "rounded_year.head()\n",
    "year_df_floor= np.floor(rounded_year)\n",
    "year_df_floor.head()\n",
    "month= np.ceil(12*(date_df['Date']- year_df_floor)+1)\n",
    "print(month)\n",
    "#date_df['Year']\n",
    "#What do these columns equal?\n",
    "#date_df['Year'] = \n",
    "#date_df['Month'] ="
   ]
  },
  {
   "cell_type": "code",
   "execution_count": 15,
   "metadata": {},
   "outputs": [
    {
     "data": {
      "text/html": [
       "<div>\n",
       "<style scoped>\n",
       "    .dataframe tbody tr th:only-of-type {\n",
       "        vertical-align: middle;\n",
       "    }\n",
       "\n",
       "    .dataframe tbody tr th {\n",
       "        vertical-align: top;\n",
       "    }\n",
       "\n",
       "    .dataframe thead th {\n",
       "        text-align: right;\n",
       "    }\n",
       "</style>\n",
       "<table border=\"1\" class=\"dataframe\">\n",
       "  <thead>\n",
       "    <tr style=\"text-align: right;\">\n",
       "      <th></th>\n",
       "      <th>Date</th>\n",
       "      <th>Data</th>\n",
       "    </tr>\n",
       "  </thead>\n",
       "  <tbody>\n",
       "    <tr>\n",
       "      <th>0</th>\n",
       "      <td>1880.000000</td>\n",
       "      <td>0.354796</td>\n",
       "    </tr>\n",
       "    <tr>\n",
       "      <th>1</th>\n",
       "      <td>1880.083333</td>\n",
       "      <td>0.622559</td>\n",
       "    </tr>\n",
       "    <tr>\n",
       "      <th>2</th>\n",
       "      <td>1880.166667</td>\n",
       "      <td>0.899229</td>\n",
       "    </tr>\n",
       "    <tr>\n",
       "      <th>3</th>\n",
       "      <td>1880.250000</td>\n",
       "      <td>0.456384</td>\n",
       "    </tr>\n",
       "    <tr>\n",
       "      <th>4</th>\n",
       "      <td>1880.333333</td>\n",
       "      <td>0.433702</td>\n",
       "    </tr>\n",
       "  </tbody>\n",
       "</table>\n",
       "</div>"
      ],
      "text/plain": [
       "          Date      Data\n",
       "0  1880.000000  0.354796\n",
       "1  1880.083333  0.622559\n",
       "2  1880.166667  0.899229\n",
       "3  1880.250000  0.456384\n",
       "4  1880.333333  0.433702"
      ]
     },
     "execution_count": 15,
     "metadata": {},
     "output_type": "execute_result"
    }
   ],
   "source": [
    "date_df.head()"
   ]
  },
  {
   "cell_type": "markdown",
   "metadata": {},
   "source": [
    "### Step 4: Write a function\n",
    "\n",
    "Write a function that takes any Pandas column with dates in the this format and creates a new dataframe with columns for year and month instead.  \n",
    "\n",
    "Discuss in groups about what will go into this skeleton for a function and write your pseudo-code in your lab notes.\n",
    "\n",
    "```def (function_inputs):\n",
    "    do something\n",
    "    return function_outputs```\n",
    "        "
   ]
  },
  {
   "cell_type": "code",
   "execution_count": 17,
   "metadata": {},
   "outputs": [],
   "source": [
    "#Function goes here\n",
    "\n",
    "def cvrt_datetoyearmonth (x):\n",
    "    \n",
    "    year_df_rounded = np.round(date_df['Date'],3)\n",
    "    print('\\n' , year_df_rounded.head())\n",
    "    \n",
    "    year_df_floor = np.floor(year_df_rounded)\n",
    "    print('\\n' , year_df_floor.head())\n",
    "    \n",
    "    month = np.ceil(12*(date['Date']-year_df_floor)+1)\n",
    "    print('\\n' , month.head())\n",
    "    \n",
    "    return month\n",
    "    \n",
    "    "
   ]
  },
  {
   "cell_type": "code",
   "execution_count": null,
   "metadata": {},
   "outputs": [],
   "source": [
    "#Test on date_df"
   ]
  },
  {
   "cell_type": "code",
   "execution_count": null,
   "metadata": {},
   "outputs": [],
   "source": []
  }
 ],
 "metadata": {
  "kernelspec": {
   "display_name": "Python 3",
   "language": "python",
   "name": "python3"
  },
  "language_info": {
   "codemirror_mode": {
    "name": "ipython",
    "version": 3
   },
   "file_extension": ".py",
   "mimetype": "text/x-python",
   "name": "python",
   "nbconvert_exporter": "python",
   "pygments_lexer": "ipython3",
   "version": "3.7.3"
  }
 },
 "nbformat": 4,
 "nbformat_minor": 4
}
