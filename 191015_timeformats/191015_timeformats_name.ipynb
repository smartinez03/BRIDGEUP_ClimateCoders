{
 "cells": [
  {
   "cell_type": "markdown",
   "metadata": {},
   "source": [
    "## Time formats\n",
    "\n",
    "We are going to be talking about time a LOT in the coming year. Not what it is (because that might take awhile) but how we store it and use it in our data analysis. \n",
    "\n",
    "The datetime module is a particularly useful way of manipulating dates and time in Python. Let's import the module and start exploring! "
   ]
  },
  {
   "cell_type": "code",
   "execution_count": 25,
   "metadata": {},
   "outputs": [],
   "source": [
    "import datetime as dt"
   ]
  },
  {
   "cell_type": "markdown",
   "metadata": {},
   "source": [
    "```.datetime``` is a class within the module ```datetime``` (frustrating I know). It has useful functions like ```dt.datetime.now()``` that give you the date and time right at this moment. Run the function below to see an example of one way in which time is stored by the module."
   ]
  },
  {
   "cell_type": "code",
   "execution_count": 26,
   "metadata": {},
   "outputs": [
    {
     "data": {
      "text/plain": [
       "datetime.datetime(2019, 10, 22, 18, 26, 8, 612152)"
      ]
     },
     "execution_count": 26,
     "metadata": {},
     "output_type": "execute_result"
    }
   ],
   "source": [
    "dt.datetime.now()"
   ]
  },
  {
   "cell_type": "markdown",
   "metadata": {},
   "source": [
    "What do each of the numbers correspond to? Printing out the output of the function is useful here. "
   ]
  },
  {
   "cell_type": "code",
   "execution_count": 27,
   "metadata": {},
   "outputs": [
    {
     "name": "stdout",
     "output_type": "stream",
     "text": [
      "2019-10-22 18:26:09.260137\n"
     ]
    }
   ],
   "source": [
    "print(dt.datetime.now())"
   ]
  },
  {
   "cell_type": "markdown",
   "metadata": {},
   "source": [
    "Save your birthday in the datetime format"
   ]
  },
  {
   "cell_type": "code",
   "execution_count": 28,
   "metadata": {},
   "outputs": [],
   "source": [
    "bday = dt.datetime(2003,2,16)\n",
    "nxtbday= dt.datetime(2020,2,16)"
   ]
  },
  {
   "cell_type": "markdown",
   "metadata": {},
   "source": [
    "Now, calculate how many days it's going to be before you can celebrate your next birthday. Do this by hand but feel free to use Jupyter to make calculations."
   ]
  },
  {
   "cell_type": "code",
   "execution_count": 29,
   "metadata": {},
   "outputs": [
    {
     "name": "stdout",
     "output_type": "stream",
     "text": [
      "116 days, 5:33:49.303590\n"
     ]
    }
   ],
   "source": [
    "print(nxtbday-dt.datetime.now())"
   ]
  },
  {
   "cell_type": "markdown",
   "metadata": {},
   "source": [
    "How about the numbers of days since you were born? \n",
    "\n",
    "It get's complicated right! You have figure out which years were leap years, make sure you're only counting only 29 days for February... That's why the datetime module is useful."
   ]
  },
  {
   "cell_type": "markdown",
   "metadata": {},
   "source": [
    "Let's use datetime module to answer the question instead. All you have to do is subtract the two dates of interest."
   ]
  },
  {
   "cell_type": "code",
   "execution_count": 44,
   "metadata": {},
   "outputs": [],
   "source": [
    "time=dt.datetime.now()-bday"
   ]
  },
  {
   "cell_type": "markdown",
   "metadata": {},
   "source": [
    "The module saves time in a new format that is relative to some fixed date (i.e your birthday) using ```datetime.timedelta()```. Time is divided into different attributes (days, hours, seconds etc.) that you can pull out individually by typing in ```datetime.timedelta().days``` for example. \n",
    "\n",
    "Let's be a little more precise about number of days we just calculated. Write a function to convert all the attributes to number of days. Here are some helpful conversions to help you with the math.\n",
    "\n",
    "|Helpful conversions|\n",
    "| :----: |\n",
    "|1 second = $10^{6}$ microseconds|\n",
    "|1 minute = 60 seconds|\n",
    "|1 hour = 60 minutes|\n",
    "|1 day = 24 hours|\n",
    "|1 week = 7 days|\n",
    "\n",
    "Map out how you're going to do this and talk it through with your partners before you start coding. If you need a quick refresher on functions, this is a good resource: https://www.w3schools.com/python/python_functions.asp."
   ]
  },
  {
   "cell_type": "code",
   "execution_count": 41,
   "metadata": {},
   "outputs": [],
   "source": [
    "# Map out your function\n",
    "# Tips:\n",
    "# - do the calculation by hand - what steps did you take?\n",
    "# - what do you need to input?\n",
    "# - what is the output?\n",
    "\n",
    "\n",
    "# Function\n",
    "# - Put in lots of comments so somebody just reading the code will understand what it's doing!\n",
    "\n",
    "\n",
    "# Test your functions with a value you already know\n",
    "# - Use this function to figure out how many days you've got till your next birthday\n",
    "# - compare your results to the calculation you did by hand."
   ]
  },
  {
   "cell_type": "markdown",
   "metadata": {},
   "source": [
    "So how many days have you lived on Earth? Run this function to find out!"
   ]
  },
  {
   "cell_type": "markdown",
   "metadata": {},
   "source": [
    "# def fun(x):\n",
    "    var= dt.datetime.now()-x\n",
    "    var2= ((var.microseconds)*10^6+(var.seconds))/86400\n",
    "    var3= var2+var.day\n",
    "    return var3\n",
    "\n",
    "fun(bday)"
   ]
  },
  {
   "cell_type": "code",
   "execution_count": 45,
   "metadata": {},
   "outputs": [
    {
     "data": {
      "text/plain": [
       "6092.772662037037"
      ]
     },
     "execution_count": 45,
     "metadata": {},
     "output_type": "execute_result"
    }
   ],
   "source": [
    "\n",
    "def sec2day(time):\n",
    "    days=time.days\n",
    "    sec=time.seconds\n",
    "    days=sec/86400+days\n",
    "    return days\n",
    "\n",
    "sec2day(time)"
   ]
  },
  {
   "cell_type": "markdown",
   "metadata": {},
   "source": [
    "How about how many days you've got till graduation? Or the next election you can vote in?"
   ]
  },
  {
   "cell_type": "code",
   "execution_count": null,
   "metadata": {},
   "outputs": [],
   "source": []
  },
  {
   "cell_type": "markdown",
   "metadata": {},
   "source": [
    "Some of the datasets we'll be working with this year, save time in this way as days elapsed from some starting point. Let's create a function to convert from this format to the datetime format we now know (and hopefully love). \n",
    "\n",
    "In this case, the starting time is January 01, 1980. One value from the dataset is included so you can test out your function. \n",
    "\n",
    "Again,\n",
    "1. **map** out your function\n",
    "1. put in **lots of comments** to explain what you're doing. Somebody who's just reading the code should be able to understand how to use it.\n",
    "1. **test it** out with a value you already know. For example, what's the date 5 days after the starting point?"
   ]
  },
  {
   "cell_type": "code",
   "execution_count": 6,
   "metadata": {},
   "outputs": [],
   "source": [
    "# Map out your function\n",
    "# Tips:\n",
    "# - how would you do this calculation by hand?\n",
    "# - what do you need to input?\n",
    "# - what is the output?\n",
    "\n",
    "# Function\n",
    "# - Put in lots of comments so somebody just reading the code will understand what it's doing!\n",
    "\n",
    "testTime = 13530.0416666666\n",
    "\n",
    "startTime = dt.datetime(1980,1,1,0,0,0)\n",
    "\n",
    "# Test your functions with a value you already know\n",
    "# - What's the date 5 days after January 1, 1980?"
   ]
  },
  {
   "cell_type": "markdown",
   "metadata": {},
   "source": [
    "Apply your function to find out what date the variable **testTime** corresponds to."
   ]
  },
  {
   "cell_type": "code",
   "execution_count": null,
   "metadata": {},
   "outputs": [],
   "source": []
  },
  {
   "cell_type": "markdown",
   "metadata": {},
   "source": [
    "Now, we'll apply it to a dataset. So, we'll need to:\n",
    "1. import the 191015_SODAtime.csv file as a Pandas dataframe. The file should be in the same folder as this Jupyter notebook.\n",
    "1. apply this function to every entry in the file"
   ]
  },
  {
   "cell_type": "code",
   "execution_count": 3,
   "metadata": {},
   "outputs": [],
   "source": [
    "# Outline your code\n",
    "# Tips:\n",
    "# - how would you do this by hand?\n",
    "# - what variables do you need?\n",
    "# - what is the output?\n",
    "\n",
    "# You will need to:\n",
    "# - import the .csv file\n",
    "# - apply your conversion function to this file\n",
    "#Remember: \n",
    "# - Put in lots of comments so somebody just reading the code will understand what it's doing!\n",
    "\n",
    "import pandas as pd\n",
    "\n",
    "# Test your code with a value you already know\n",
    "# - the variable testTime from the previous part is the first entry on this dataset. \n",
    "# - Check that you get same result now that you've applied your function to an entire dataset."
   ]
  },
  {
   "cell_type": "markdown",
   "metadata": {},
   "source": [
    "Awesome! You have successfully written up a collection of functions to manipulate time that we will be using frequently throughout this year."
   ]
  }
 ],
 "metadata": {
  "kernelspec": {
   "display_name": "Python 3",
   "language": "python",
   "name": "python3"
  },
  "language_info": {
   "codemirror_mode": {
    "name": "ipython",
    "version": 3
   },
   "file_extension": ".py",
   "mimetype": "text/x-python",
   "name": "python",
   "nbconvert_exporter": "python",
   "pygments_lexer": "ipython3",
   "version": "3.7.4"
  }
 },
 "nbformat": 4,
 "nbformat_minor": 2
}
